{
 "cells": [
  {
   "cell_type": "markdown",
   "metadata": {},
   "source": [
    "# 文件分類\n",
    "- 目標 : 「文件分類」\n",
    "- 內容 : 使用文章轉DTM(document term matrix)的方式，將文章用不同的字詞分布表示，再利用python的sklearn套件，套用決策樹、logistic regression等方式訓練模型，以分辨不同的文件。"
   ]
  },
  {
   "cell_type": "markdown",
   "metadata": {},
   "source": [
    "## 分析目標\n",
    "+ 資料內容：\n",
    "    + 資料來源：東森新聞\n",
    "    + 版別：財經、政治、體育\n",
    "\n",
    "* 分析主題：將東森新聞三個版別的文章合起來，訓練模型能預測新聞版別，再用分類模型進行文件的版別分類。\n",
    "\n",
    "* 以下為分析目標：\n",
    "    1. 如何以數字向量代表一篇文章\n",
    "        * `CountVectorizer`\n",
    "        * `TfidfVectorizer`\n",
    "    2. 基本的分類模型流程，包含以下三步驟：\n",
    "        * 前處理 (preprocess)\n",
    "        * 建模 (train model)\n",
    "        * 評估與預測 (evaluation and predict)\n",
    "    3. cross validation\n",
    "    4. 不同分類器的效果\n",
    "    5. 可解釋的可視化模型結果\n",
    "    6. 預測其他家新聞文章的版別"
   ]
  },
  {
   "cell_type": "markdown",
   "metadata": {},
   "source": [
    "##  套件說明\n",
    "\n",
    "- **sklearn**: 全名為Scikit-learn，機器學習的常用建模套件，包含各種分群、分類、迴歸模型，如隨機森林、SVM或 K-means 等。\n",
    "- pandas: 資料分析的函式庫，提供了DataFrame等資料格式，與資料處理的函數。\n",
    "- jieba: 結巴套件，中文斷詞套件\n",
    "- seaborn: 基於 matplotlib 封裝的繪圖工具"
   ]
  },
  {
   "cell_type": "code",
   "execution_count": 320,
   "metadata": {},
   "outputs": [],
   "source": [
    "import re\n",
    "from pprint import pprint\n",
    "\n",
    "import pandas as pd\n",
    "import numpy as np\n",
    "import matplotlib.pyplot as plt\n",
    "import seaborn as sns\n",
    "import jieba\n",
    "from sklearn.model_selection import train_test_split, cross_validate, cross_val_predict, KFold\n",
    "from sklearn.metrics import (\n",
    "    confusion_matrix,\n",
    "    classification_report,\n",
    "    roc_curve,\n",
    "    auc,\n",
    "    precision_recall_curve,\n",
    "    RocCurveDisplay\n",
    ")\n",
    "from sklearn.feature_extraction.text import TfidfVectorizer, CountVectorizer\n",
    "from sklearn.preprocessing import LabelBinarizer\n",
    "from sklearn.linear_model import LogisticRegression\n",
    "from sklearn.naive_bayes import GaussianNB\n",
    "from sklearn.tree import DecisionTreeClassifier, plot_tree\n",
    "from sklearn.ensemble import RandomForestClassifier\n",
    "from sklearn import svm"
   ]
  },
  {
   "cell_type": "markdown",
   "metadata": {},
   "source": [
    "設定中文字體"
   ]
  },
  {
   "cell_type": "code",
   "execution_count": 321,
   "metadata": {},
   "outputs": [
    {
     "data": {
      "text/plain": [
       "Text(0.5, 1.0, '聲量圖')"
      ]
     },
     "execution_count": 321,
     "metadata": {},
     "output_type": "execute_result"
    },
    {
     "data": {
      "image/png": "[encoded data removed]",
      "text/plain": [
       "<Figure size 640x480 with 1 Axes>"
      ]
     },
     "metadata": {},
     "output_type": "display_data"
    }
   ],
   "source": [
    "# https://zhuanlan.zhihu.com/p/566430362\n",
    "# from matplotlib import font_manager\n",
    "# font_set = {f.name for f in font_manager.fontManager.ttflist}\n",
    "plt.rcParams['font.sans-serif']=['Microsoft JhengHei']\n",
    "plt.rcParams['axes.unicode_minus']=False\n",
    "plt.plot((1, 2, 3), (4, 3, -1))\n",
    "plt.title(\"聲量圖\")"
   ]
  },
  {
   "cell_type": "markdown",
   "metadata": {},
   "source": [
    "##  文字前處理"
   ]
  },
  {
   "cell_type": "markdown",
   "metadata": {},
   "source": [
    "`east_news.csv`裡面包含了要分析的 東森新聞 資料。\n",
    "- 版別：財經、政治、體育\n",
    "- 時間範圍：2024/01/01 ~ 2024/03/31\n",
    "- 工作流程平台搜尋/排除關鍵字：無\n",
    "\n",
    "首先我們先看文集的基本資料，並做文集前處理。"
   ]
  },
  {
   "cell_type": "code",
   "execution_count": 322,
   "metadata": {},
   "outputs": [
    {
     "data": {
      "text/html": [
       "<div>\n",
       "<style scoped>\n",
       "    .dataframe tbody tr th:only-of-type {\n",
       "        vertical-align: middle;\n",
       "    }\n",
       "\n",
       "    .dataframe tbody tr th {\n",
       "        vertical-align: top;\n",
       "    }\n",
       "\n",
       "    .dataframe thead th {\n",
       "        text-align: right;\n",
       "    }\n",
       "</style>\n",
       "<table border=\"1\" class=\"dataframe\">\n",
       "  <thead>\n",
       "    <tr style=\"text-align: right;\">\n",
       "      <th></th>\n",
       "      <th>system_id</th>\n",
       "      <th>artTitle</th>\n",
       "      <th>artUrl</th>\n",
       "      <th>artDate</th>\n",
       "      <th>artCatagory</th>\n",
       "      <th>artContent</th>\n",
       "      <th>dataSource</th>\n",
       "    </tr>\n",
       "  </thead>\n",
       "  <tbody>\n",
       "    <tr>\n",
       "      <th>0</th>\n",
       "      <td>1</td>\n",
       "      <td>這檔股票漲幅逾4成 台股封關秀外資也買超它｜東森新聞</td>\n",
       "      <td>https://news.ebc.net.tw/news/article/398813</td>\n",
       "      <td>2024-01-01 13:13:00</td>\n",
       "      <td>財經</td>\n",
       "      <td>台股2023年封關秀精彩！外資買超前三為台積電、奇鋐、緯創，生技美時掛帥，中租-KY也躋進前...</td>\n",
       "      <td>EBC</td>\n",
       "    </tr>\n",
       "    <tr>\n",
       "      <th>1</th>\n",
       "      <td>2</td>\n",
       "      <td>Apple Pay狂跳「信用卡即將到期」 網哀號：時間還沒到｜東森新聞</td>\n",
       "      <td>https://news.ebc.net.tw/news/article/398817</td>\n",
       "      <td>2024-01-01 13:43:00</td>\n",
       "      <td>財經</td>\n",
       "      <td>近期有網友表示，自己的ApplePay出現奇怪的問題，明明綁定的信用卡還沒到期，但是Appl...</td>\n",
       "      <td>EBC</td>\n",
       "    </tr>\n",
       "    <tr>\n",
       "      <th>2</th>\n",
       "      <td>3</td>\n",
       "      <td>每人最高拿10萬！勞工紓困貸款1/5起可申請｜東森新聞</td>\n",
       "      <td>https://news.ebc.net.tw/news/article/398945</td>\n",
       "      <td>2024-01-02 11:28:00</td>\n",
       "      <td>財經</td>\n",
       "      <td>2024勞工紓困貸款將於1月5日起跑，每人最高可貸10萬，申請期間僅兩周，1月19日截止。銀...</td>\n",
       "      <td>EBC</td>\n",
       "    </tr>\n",
       "  </tbody>\n",
       "</table>\n",
       "</div>"
      ],
      "text/plain": [
       "   system_id                             artTitle  \\\n",
       "0          1           這檔股票漲幅逾4成 台股封關秀外資也買超它｜東森新聞   \n",
       "1          2  Apple Pay狂跳「信用卡即將到期」 網哀號：時間還沒到｜東森新聞   \n",
       "2          3          每人最高拿10萬！勞工紓困貸款1/5起可申請｜東森新聞   \n",
       "\n",
       "                                        artUrl              artDate  \\\n",
       "0  https://news.ebc.net.tw/news/article/398813  2024-01-01 13:13:00   \n",
       "1  https://news.ebc.net.tw/news/article/398817  2024-01-01 13:43:00   \n",
       "2  https://news.ebc.net.tw/news/article/398945  2024-01-02 11:28:00   \n",
       "\n",
       "  artCatagory                                         artContent dataSource  \n",
       "0          財經  台股2023年封關秀精彩！外資買超前三為台積電、奇鋐、緯創，生技美時掛帥，中租-KY也躋進前...        EBC  \n",
       "1          財經  近期有網友表示，自己的ApplePay出現奇怪的問題，明明綁定的信用卡還沒到期，但是Appl...        EBC  \n",
       "2          財經  2024勞工紓困貸款將於1月5日起跑，每人最高可貸10萬，申請期間僅兩周，1月19日截止。銀...        EBC  "
      ]
     },
     "execution_count": 322,
     "metadata": {},
     "output_type": "execute_result"
    }
   ],
   "source": [
    "udn = pd.read_csv(\"east_news.csv\")  # 匯資料\n",
    "udn.head(3)"
   ]
  },
  {
   "cell_type": "code",
   "execution_count": 323,
   "metadata": {},
   "outputs": [
    {
     "name": "stdout",
     "output_type": "stream",
     "text": [
      "number of posts: 1892\n",
      "date range: ('2024-01-01 07:44:00', '2024-03-31 22:51:00')\n",
      "category: \n",
      "artCatagory\n",
      "政治    1321\n",
      "財經     325\n",
      "體育     246\n",
      "Name: count, dtype: int64\n"
     ]
    }
   ],
   "source": [
    "# 看看有幾篇文章\n",
    "print(f\"number of posts: {udn.shape[0]}\")\n",
    "print(f\"date range: {(udn['artDate'].min(), udn['artDate'].max())}\")\n",
    "print(f\"category: \\n{udn['artCatagory'].value_counts()}\")"
   ]
  },
  {
   "cell_type": "markdown",
   "metadata": {},
   "source": [
    "###  清理斷句、斷詞(停用字、標點符號)"
   ]
  },
  {
   "cell_type": "markdown",
   "metadata": {},
   "source": [
    "利用問號、句號或驚嘆號等符號斷句，或是如果出現中文或是英文的省略號，像是`...`也會斷句，最後設定會去除結尾的空白符號。"
   ]
  },
  {
   "cell_type": "code",
   "execution_count": 324,
   "metadata": {},
   "outputs": [
    {
     "data": {
      "text/html": [
       "<div>\n",
       "<style scoped>\n",
       "    .dataframe tbody tr th:only-of-type {\n",
       "        vertical-align: middle;\n",
       "    }\n",
       "\n",
       "    .dataframe tbody tr th {\n",
       "        vertical-align: top;\n",
       "    }\n",
       "\n",
       "    .dataframe thead th {\n",
       "        text-align: right;\n",
       "    }\n",
       "</style>\n",
       "<table border=\"1\" class=\"dataframe\">\n",
       "  <thead>\n",
       "    <tr style=\"text-align: right;\">\n",
       "      <th></th>\n",
       "      <th>system_id</th>\n",
       "      <th>artTitle</th>\n",
       "      <th>artUrl</th>\n",
       "      <th>artDate</th>\n",
       "      <th>artCatagory</th>\n",
       "      <th>artContent</th>\n",
       "      <th>dataSource</th>\n",
       "    </tr>\n",
       "  </thead>\n",
       "  <tbody>\n",
       "    <tr>\n",
       "      <th>0</th>\n",
       "      <td>1</td>\n",
       "      <td>這檔股票漲幅逾成台股封關秀外資也買超它東森新聞</td>\n",
       "      <td>https://news.ebc.net.tw/news/article/398813</td>\n",
       "      <td>2024-01-01 13:13:00</td>\n",
       "      <td>財經</td>\n",
       "      <td>台股年封關秀精彩外資買超前三為台積電奇鋐緯創生技美時掛帥中租也躋進前名榜單明天新年第一天開市...</td>\n",
       "      <td>EBC</td>\n",
       "    </tr>\n",
       "    <tr>\n",
       "      <th>1</th>\n",
       "      <td>2</td>\n",
       "      <td>狂跳信用卡即將到期網哀號時間還沒到東森新聞</td>\n",
       "      <td>https://news.ebc.net.tw/news/article/398817</td>\n",
       "      <td>2024-01-01 13:43:00</td>\n",
       "      <td>財經</td>\n",
       "      <td>近期有網友表示自己的出現奇怪的問題明明綁定的信用卡還沒到期但是卻一直顯示即將到期而無法使用不...</td>\n",
       "      <td>EBC</td>\n",
       "    </tr>\n",
       "    <tr>\n",
       "      <th>2</th>\n",
       "      <td>3</td>\n",
       "      <td>每人最高拿萬勞工紓困貸款起可申請東森新聞</td>\n",
       "      <td>https://news.ebc.net.tw/news/article/398945</td>\n",
       "      <td>2024-01-02 11:28:00</td>\n",
       "      <td>財經</td>\n",
       "      <td>勞工紓困貸款將於月日起跑每人最高可貸萬申請期間僅兩周月日截止銀行指出經勞保局核准後個營業日內...</td>\n",
       "      <td>EBC</td>\n",
       "    </tr>\n",
       "  </tbody>\n",
       "</table>\n",
       "</div>"
      ],
      "text/plain": [
       "   system_id                 artTitle  \\\n",
       "0          1  這檔股票漲幅逾成台股封關秀外資也買超它東森新聞   \n",
       "1          2    狂跳信用卡即將到期網哀號時間還沒到東森新聞   \n",
       "2          3     每人最高拿萬勞工紓困貸款起可申請東森新聞   \n",
       "\n",
       "                                        artUrl              artDate  \\\n",
       "0  https://news.ebc.net.tw/news/article/398813  2024-01-01 13:13:00   \n",
       "1  https://news.ebc.net.tw/news/article/398817  2024-01-01 13:43:00   \n",
       "2  https://news.ebc.net.tw/news/article/398945  2024-01-02 11:28:00   \n",
       "\n",
       "  artCatagory                                         artContent dataSource  \n",
       "0          財經  台股年封關秀精彩外資買超前三為台積電奇鋐緯創生技美時掛帥中租也躋進前名榜單明天新年第一天開市...        EBC  \n",
       "1          財經  近期有網友表示自己的出現奇怪的問題明明綁定的信用卡還沒到期但是卻一直顯示即將到期而無法使用不...        EBC  \n",
       "2          財經  勞工紓困貸款將於月日起跑每人最高可貸萬申請期間僅兩周月日截止銀行指出經勞保局核准後個營業日內...        EBC  "
      ]
     },
     "execution_count": 324,
     "metadata": {},
     "output_type": "execute_result"
    }
   ],
   "source": [
    "# 過濾 nan 的資料\n",
    "udn = udn.dropna(subset=['artTitle'])\n",
    "udn = udn.dropna(subset=['artContent'])\n",
    "# 移除網址格式\n",
    "udn[\"artContent\"] = udn.artContent.apply(\n",
    "    lambda x: re.sub(\"(http|https)://.*\", \"\", x)\n",
    ")\n",
    "udn[\"artTitle\"] = udn[\"artTitle\"].apply(\n",
    "    lambda x: re.sub(\"(http|https)://.*\", \"\", x)\n",
    ")\n",
    "# 只留下中文字\n",
    "udn[\"artContent\"] = udn.artContent.apply(\n",
    "    lambda x: re.sub(\"[^\\u4e00-\\u9fa5]+\", \"\", x)\n",
    ")\n",
    "udn[\"artTitle\"] = udn[\"artTitle\"].apply(\n",
    "    lambda x: re.sub(\"[^\\u4e00-\\u9fa5]+\", \"\", x)\n",
    ")\n",
    "udn.head(3)"
   ]
  },
  {
   "cell_type": "markdown",
   "metadata": {},
   "source": [
    "文章的標題`artTitle`和內文`artContent`都會納入分析的內容，成為新的`content`欄位。"
   ]
  },
  {
   "cell_type": "code",
   "execution_count": 325,
   "metadata": {},
   "outputs": [
    {
     "data": {
      "text/html": [
       "<div>\n",
       "<style scoped>\n",
       "    .dataframe tbody tr th:only-of-type {\n",
       "        vertical-align: middle;\n",
       "    }\n",
       "\n",
       "    .dataframe tbody tr th {\n",
       "        vertical-align: top;\n",
       "    }\n",
       "\n",
       "    .dataframe thead th {\n",
       "        text-align: right;\n",
       "    }\n",
       "</style>\n",
       "<table border=\"1\" class=\"dataframe\">\n",
       "  <thead>\n",
       "    <tr style=\"text-align: right;\">\n",
       "      <th></th>\n",
       "      <th>content</th>\n",
       "      <th>artUrl</th>\n",
       "      <th>artCatagory</th>\n",
       "    </tr>\n",
       "  </thead>\n",
       "  <tbody>\n",
       "    <tr>\n",
       "      <th>0</th>\n",
       "      <td>這檔股票漲幅逾成台股封關秀外資也買超它東森新聞台股年封關秀精彩外資買超前三為台積電奇鋐緯創生...</td>\n",
       "      <td>https://news.ebc.net.tw/news/article/398813</td>\n",
       "      <td>財經</td>\n",
       "    </tr>\n",
       "    <tr>\n",
       "      <th>1</th>\n",
       "      <td>狂跳信用卡即將到期網哀號時間還沒到東森新聞近期有網友表示自己的出現奇怪的問題明明綁定的信用卡...</td>\n",
       "      <td>https://news.ebc.net.tw/news/article/398817</td>\n",
       "      <td>財經</td>\n",
       "    </tr>\n",
       "    <tr>\n",
       "      <th>2</th>\n",
       "      <td>每人最高拿萬勞工紓困貸款起可申請東森新聞勞工紓困貸款將於月日起跑每人最高可貸萬申請期間僅兩周...</td>\n",
       "      <td>https://news.ebc.net.tw/news/article/398945</td>\n",
       "      <td>財經</td>\n",
       "    </tr>\n",
       "    <tr>\n",
       "      <th>3</th>\n",
       "      <td>台積電最高位女將進董事會呼聲高何麗梅成總座大熱門東森新聞台積電人力資源副總經理何麗梅傳出被提...</td>\n",
       "      <td>https://news.ebc.net.tw/news/article/399081</td>\n",
       "      <td>財經</td>\n",
       "    </tr>\n",
       "    <tr>\n",
       "      <th>4</th>\n",
       "      <td>東區新店王藏地下室量販店萬月租包樓東森新聞地上看一間店面的大小走下去竟是坪的超大地下室再看看...</td>\n",
       "      <td>https://news.ebc.net.tw/news/article/399115</td>\n",
       "      <td>財經</td>\n",
       "    </tr>\n",
       "  </tbody>\n",
       "</table>\n",
       "</div>"
      ],
      "text/plain": [
       "                                             content  \\\n",
       "0  這檔股票漲幅逾成台股封關秀外資也買超它東森新聞台股年封關秀精彩外資買超前三為台積電奇鋐緯創生...   \n",
       "1  狂跳信用卡即將到期網哀號時間還沒到東森新聞近期有網友表示自己的出現奇怪的問題明明綁定的信用卡...   \n",
       "2  每人最高拿萬勞工紓困貸款起可申請東森新聞勞工紓困貸款將於月日起跑每人最高可貸萬申請期間僅兩周...   \n",
       "3  台積電最高位女將進董事會呼聲高何麗梅成總座大熱門東森新聞台積電人力資源副總經理何麗梅傳出被提...   \n",
       "4  東區新店王藏地下室量販店萬月租包樓東森新聞地上看一間店面的大小走下去竟是坪的超大地下室再看看...   \n",
       "\n",
       "                                        artUrl artCatagory  \n",
       "0  https://news.ebc.net.tw/news/article/398813          財經  \n",
       "1  https://news.ebc.net.tw/news/article/398817          財經  \n",
       "2  https://news.ebc.net.tw/news/article/398945          財經  \n",
       "3  https://news.ebc.net.tw/news/article/399081          財經  \n",
       "4  https://news.ebc.net.tw/news/article/399115          財經  "
      ]
     },
     "execution_count": 325,
     "metadata": {},
     "output_type": "execute_result"
    }
   ],
   "source": [
    "udn['content'] = udn.apply(lambda row: row['artTitle'] + row['artContent'], axis=1)\n",
    "udn = udn[['content', 'artUrl', 'artCatagory']]\n",
    "udn.head()"
   ]
  },
  {
   "cell_type": "code",
   "execution_count": 326,
   "metadata": {},
   "outputs": [
    {
     "name": "stdout",
     "output_type": "stream",
     "text": [
      "total docs: 1892\n"
     ]
    }
   ],
   "source": [
    "# 看看有幾篇文章\n",
    "print(f\"total docs: {udn.shape[0]}\")\n"
   ]
  },
  {
   "cell_type": "markdown",
   "metadata": {},
   "source": [
    "###  斷詞"
   ]
  },
  {
   "cell_type": "code",
   "execution_count": 334,
   "metadata": {},
   "outputs": [],
   "source": [
    "# 設定繁體中文詞庫\n",
    "jieba.set_dictionary(\"dict.txt.big\")\n",
    "\n",
    "# 新增stopwords\n",
    "# jieba.analyse.set_stop_words('./dict/stop_words.txt') #jieba.analyse.extract_tags才會作用\n",
    "with open(\"./dict/stopwords.txt\", encoding=\"utf-8\") as f:\n",
    "    stopWords = [line.strip() for line in f.readlines()]"
   ]
  },
  {
   "cell_type": "code",
   "execution_count": 335,
   "metadata": {},
   "outputs": [],
   "source": [
    "# 設定斷詞 function\n",
    "def getToken(row):\n",
    "    seg_list = jieba.cut(row, cut_all=False)\n",
    "    seg_list = [\n",
    "        w for w in seg_list if w not in stopWords and len(w) > 1\n",
    "    ]  # 篩選掉停用字與字元數大於1的詞彙\n",
    "    return seg_list"
   ]
  },
  {
   "cell_type": "code",
   "execution_count": 336,
   "metadata": {},
   "outputs": [
    {
     "name": "stderr",
     "output_type": "stream",
     "text": [
      "Building prefix dict from c:\\Users\\fisha\\OneDrive\\桌面\\HW2\\dict.txt.big ...\n",
      "Loading model from cache C:\\Users\\fisha\\AppData\\Local\\Temp\\jieba.ua5de2fb36135ead1bb22f4d3d78d83e9.cache\n",
      "Loading model cost 1.325 seconds.\n",
      "Prefix dict has been built successfully.\n"
     ]
    },
    {
     "data": {
      "text/html": [
       "<div>\n",
       "<style scoped>\n",
       "    .dataframe tbody tr th:only-of-type {\n",
       "        vertical-align: middle;\n",
       "    }\n",
       "\n",
       "    .dataframe tbody tr th {\n",
       "        vertical-align: top;\n",
       "    }\n",
       "\n",
       "    .dataframe thead th {\n",
       "        text-align: right;\n",
       "    }\n",
       "</style>\n",
       "<table border=\"1\" class=\"dataframe\">\n",
       "  <thead>\n",
       "    <tr style=\"text-align: right;\">\n",
       "      <th></th>\n",
       "      <th>content</th>\n",
       "      <th>artUrl</th>\n",
       "      <th>artCatagory</th>\n",
       "      <th>words</th>\n",
       "    </tr>\n",
       "  </thead>\n",
       "  <tbody>\n",
       "    <tr>\n",
       "      <th>0</th>\n",
       "      <td>這檔股票漲幅逾成台股封關秀外資也買超它東森新聞台股年封關秀精彩外資買超前三為台積電奇鋐緯創生...</td>\n",
       "      <td>https://news.ebc.net.tw/news/article/398813</td>\n",
       "      <td>財經</td>\n",
       "      <td>這檔 股票 漲幅 逾成 台股 封關 外資 買超 東森 台股 封關 精彩 外資 超前 三為 台...</td>\n",
       "    </tr>\n",
       "    <tr>\n",
       "      <th>1</th>\n",
       "      <td>狂跳信用卡即將到期網哀號時間還沒到東森新聞近期有網友表示自己的出現奇怪的問題明明綁定的信用卡...</td>\n",
       "      <td>https://news.ebc.net.tw/news/article/398817</td>\n",
       "      <td>財經</td>\n",
       "      <td>信用卡 到期 哀號 還沒到 東森 近期 網友 出現 奇怪 明明 綁定 信用卡 還沒 到期 顯...</td>\n",
       "    </tr>\n",
       "    <tr>\n",
       "      <th>2</th>\n",
       "      <td>每人最高拿萬勞工紓困貸款起可申請東森新聞勞工紓困貸款將於月日起跑每人最高可貸萬申請期間僅兩周...</td>\n",
       "      <td>https://news.ebc.net.tw/news/article/398945</td>\n",
       "      <td>財經</td>\n",
       "      <td>每人 最高 勞工 貸款 申請 東森 勞工 貸款 將於月 起跑 每人 最高 可貸 申請 期間 ...</td>\n",
       "    </tr>\n",
       "    <tr>\n",
       "      <th>3</th>\n",
       "      <td>台積電最高位女將進董事會呼聲高何麗梅成總座大熱門東森新聞台積電人力資源副總經理何麗梅傳出被提...</td>\n",
       "      <td>https://news.ebc.net.tw/news/article/399081</td>\n",
       "      <td>財經</td>\n",
       "      <td>台積電 最高 女將 董事會 呼聲 高何麗梅成 總座 熱門 東森 台積電 人力資源 副總經理 ...</td>\n",
       "    </tr>\n",
       "    <tr>\n",
       "      <th>4</th>\n",
       "      <td>東區新店王藏地下室量販店萬月租包樓東森新聞地上看一間店面的大小走下去竟是坪的超大地下室再看看...</td>\n",
       "      <td>https://news.ebc.net.tw/news/article/399115</td>\n",
       "      <td>財經</td>\n",
       "      <td>東區 新店 王藏 地下室 販店 月租 包樓 東森 地上 一間 店面 大小 下去 竟是 超大 ...</td>\n",
       "    </tr>\n",
       "  </tbody>\n",
       "</table>\n",
       "</div>"
      ],
      "text/plain": [
       "                                             content  \\\n",
       "0  這檔股票漲幅逾成台股封關秀外資也買超它東森新聞台股年封關秀精彩外資買超前三為台積電奇鋐緯創生...   \n",
       "1  狂跳信用卡即將到期網哀號時間還沒到東森新聞近期有網友表示自己的出現奇怪的問題明明綁定的信用卡...   \n",
       "2  每人最高拿萬勞工紓困貸款起可申請東森新聞勞工紓困貸款將於月日起跑每人最高可貸萬申請期間僅兩周...   \n",
       "3  台積電最高位女將進董事會呼聲高何麗梅成總座大熱門東森新聞台積電人力資源副總經理何麗梅傳出被提...   \n",
       "4  東區新店王藏地下室量販店萬月租包樓東森新聞地上看一間店面的大小走下去竟是坪的超大地下室再看看...   \n",
       "\n",
       "                                        artUrl artCatagory  \\\n",
       "0  https://news.ebc.net.tw/news/article/398813          財經   \n",
       "1  https://news.ebc.net.tw/news/article/398817          財經   \n",
       "2  https://news.ebc.net.tw/news/article/398945          財經   \n",
       "3  https://news.ebc.net.tw/news/article/399081          財經   \n",
       "4  https://news.ebc.net.tw/news/article/399115          財經   \n",
       "\n",
       "                                               words  \n",
       "0  這檔 股票 漲幅 逾成 台股 封關 外資 買超 東森 台股 封關 精彩 外資 超前 三為 台...  \n",
       "1  信用卡 到期 哀號 還沒到 東森 近期 網友 出現 奇怪 明明 綁定 信用卡 還沒 到期 顯...  \n",
       "2  每人 最高 勞工 貸款 申請 東森 勞工 貸款 將於月 起跑 每人 最高 可貸 申請 期間 ...  \n",
       "3  台積電 最高 女將 董事會 呼聲 高何麗梅成 總座 熱門 東森 台積電 人力資源 副總經理 ...  \n",
       "4  東區 新店 王藏 地下室 販店 月租 包樓 東森 地上 一間 店面 大小 下去 竟是 超大 ...  "
      ]
     },
     "execution_count": 336,
     "metadata": {},
     "output_type": "execute_result"
    }
   ],
   "source": [
    "udn[\"words\"] = udn[\"content\"].apply(getToken).map(\" \".join)\n",
    "udn.head()"
   ]
  },
  {
   "cell_type": "markdown",
   "metadata": {},
   "source": [
    "###  資料集基本檢視"
   ]
  },
  {
   "cell_type": "markdown",
   "metadata": {},
   "source": [
    "檢視資料內容"
   ]
  },
  {
   "cell_type": "code",
   "execution_count": 337,
   "metadata": {},
   "outputs": [
    {
     "name": "stdout",
     "output_type": "stream",
     "text": [
      "total posts: 1892\n",
      "category: \n",
      "artCatagory\n",
      "政治    1321\n",
      "財經     325\n",
      "體育     246\n",
      "Name: count, dtype: int64\n"
     ]
    }
   ],
   "source": [
    "print(f\"total posts: {len(udn['artUrl'].unique())}\")\n",
    "print(f\"category: \\n{udn['artCatagory'].value_counts()}\")\n"
   ]
  },
  {
   "cell_type": "markdown",
   "metadata": {},
   "source": [
    "- 可看出共有1892篇文章(3種不同版別的文章數)"
   ]
  },
  {
   "cell_type": "markdown",
   "metadata": {},
   "source": [
    "##  分類模型的訓練流程\n",
    "###  根據7:3的比例切分資料集\n",
    "利用 sklearn 中的 train_test_split 函數將 `raw_data` 隨機切成 7:3，設置 random_state 讓每次切分的結果一致。`y_train`和`y_test`分別為訓練資料和測試資料的預測目標。"
   ]
  },
  {
   "cell_type": "code",
   "execution_count": 338,
   "metadata": {},
   "outputs": [
    {
     "name": "stdout",
     "output_type": "stream",
     "text": [
      "87      快訊 震驚 投資 名人 明山 癌逝 享年 不到 東森 元大金控 旗下 元大 證券 執行 副總...\n",
      "1188    今年 最難 韓國 院長 燙金 落款 春聯 數量 有限 東森 新任 立法 院長 韓國 春聯 曝...\n",
      "289     著台 積電 走不動 日經 供應鏈 赴美 喊卡 東森 外媒 白宮 今天 宣布 拜登 政府 晶片...\n",
      "1420    國民黨 啟動 組織 改造 擬將 復興 整合 地方 黨部 東森 國民黨 主席 朱立倫將 國民黨...\n",
      "679     政治 觀察室 決戰 選前 之夜 侯賴 板橋 人氣 柯凱道 衝刺 東森 今天 選前 一天 各政...\n",
      "Name: words, dtype: object\n",
      "87      財經\n",
      "1188    政治\n",
      "289     財經\n",
      "1420    政治\n",
      "679     政治\n",
      "Name: artCatagory, dtype: object\n"
     ]
    }
   ],
   "source": [
    "data = udn\n",
    "X = data[\"words\"]\n",
    "y = data[\"artCatagory\"]  #預測目標\n",
    "\n",
    "# 把整個資料集七三切\n",
    "X_train, X_test, y_train, y_test = train_test_split(\n",
    "    X, y, test_size=0.3, random_state=777\n",
    ")\n",
    "\n",
    "print(X_train.head())\n",
    "print(y_train.head())"
   ]
  },
  {
   "cell_type": "code",
   "execution_count": 339,
   "metadata": {},
   "outputs": [
    {
     "name": "stdout",
     "output_type": "stream",
     "text": [
      "raw data percentage :\n",
      "artCatagory\n",
      "政治    69.820296\n",
      "財經    17.177590\n",
      "體育    13.002114\n",
      "Name: proportion, dtype: float64\n",
      "\n",
      "train percentage :\n",
      "artCatagory\n",
      "政治    70.694864\n",
      "財經    17.069486\n",
      "體育    12.235650\n",
      "Name: proportion, dtype: float64\n",
      "\n",
      "test percentage :\n",
      "artCatagory\n",
      "政治    67.781690\n",
      "財經    17.429577\n",
      "體育    14.788732\n",
      "Name: proportion, dtype: float64\n"
     ]
    }
   ],
   "source": [
    "# 看一下各個資料集切分的比例，應該要一致\n",
    "print(\n",
    "    f\"raw data percentage :\\n{data['artCatagory'].value_counts(normalize=True) * 100}\"\n",
    ")\n",
    "print(f\"\\ntrain percentage :\\n{y_train.value_counts(normalize=True) * 100}\")\n",
    "print(f\"\\ntest percentage :\\n{y_test.value_counts(normalize=True) * 100}\")"
   ]
  },
  {
   "cell_type": "markdown",
   "metadata": {},
   "source": [
    "- 可看出raw data和切分後的data各版別的比例皆相同。"
   ]
  },
  {
   "cell_type": "markdown",
   "metadata": {},
   "source": [
    "###  將文章轉為 DTM"
   ]
  },
  {
   "cell_type": "markdown",
   "metadata": {},
   "source": [
    "###  套入正式的資料集\n",
    "+  模型訓練: logistic regression + cv tokenizer"
   ]
  },
  {
   "cell_type": "code",
   "execution_count": 340,
   "metadata": {},
   "outputs": [
    {
     "name": "stdout",
     "output_type": "stream",
     "text": [
      "CountVectorizer(max_features=150)\n"
     ]
    }
   ],
   "source": [
    "vectorizer = CountVectorizer(max_features=150)\n",
    "print(vectorizer)"
   ]
  },
  {
   "cell_type": "markdown",
   "metadata": {},
   "source": [
    "\n",
    "- 由於財經、體育文章數較少，max_features設為150，以最常出現詞彙150作為標準。"
   ]
  },
  {
   "cell_type": "code",
   "execution_count": 341,
   "metadata": {},
   "outputs": [
    {
     "data": {
      "text/plain": [
       "87      快訊 震驚 投資 名人 明山 癌逝 享年 不到 東森 元大金控 旗下 元大 證券 執行 副總...\n",
       "1188    今年 最難 韓國 院長 燙金 落款 春聯 數量 有限 東森 新任 立法 院長 韓國 春聯 曝...\n",
       "289     著台 積電 走不動 日經 供應鏈 赴美 喊卡 東森 外媒 白宮 今天 宣布 拜登 政府 晶片...\n",
       "1420    國民黨 啟動 組織 改造 擬將 復興 整合 地方 黨部 東森 國民黨 主席 朱立倫將 國民黨...\n",
       "679     政治 觀察室 決戰 選前 之夜 侯賴 板橋 人氣 柯凱道 衝刺 東森 今天 選前 一天 各政...\n",
       "Name: words, dtype: object"
      ]
     },
     "execution_count": 341,
     "metadata": {},
     "output_type": "execute_result"
    }
   ],
   "source": [
    "X_train.head()"
   ]
  },
  {
   "cell_type": "code",
   "execution_count": 342,
   "metadata": {},
   "outputs": [
    {
     "data": {
      "text/plain": [
       "<1324x150 sparse matrix of type '<class 'numpy.int64'>'\n",
       "\twith 24627 stored elements in Compressed Sparse Row format>"
      ]
     },
     "execution_count": 342,
     "metadata": {},
     "output_type": "execute_result"
    }
   ],
   "source": [
    "vectorizer.fit(X_train)\n",
    "vec_train = vectorizer.transform(X_train)\n",
    "vec_train"
   ]
  },
  {
   "cell_type": "code",
   "execution_count": 343,
   "metadata": {},
   "outputs": [
    {
     "data": {
      "text/plain": [
       "array([[ 0,  0,  0, ...,  0,  0,  0],\n",
       "       [ 1,  0,  0, ...,  0,  0,  0],\n",
       "       [ 0,  0,  0, ...,  0,  0,  0],\n",
       "       ...,\n",
       "       [ 0,  0,  6, ...,  0,  0,  0],\n",
       "       [ 0,  1,  0, ...,  0, 10,  3],\n",
       "       [ 0,  0,  0, ...,  0,  0,  0]], dtype=int64)"
      ]
     },
     "execution_count": 343,
     "metadata": {},
     "output_type": "execute_result"
    }
   ],
   "source": [
    "### 用 `toarray()` 轉成 numpy array\n",
    "vec_train.toarray()"
   ]
  },
  {
   "cell_type": "code",
   "execution_count": 344,
   "metadata": {},
   "outputs": [
    {
     "name": "stdout",
     "output_type": "stream",
     "text": [
      "['一次' '下午' '中國' '中央' '中華民國' '主席' '之後' '事件' '事情' '人員']\n"
     ]
    }
   ],
   "source": [
    "# 可用 `fit_transform()` 一次完成\n",
    "vec_train = vectorizer.fit_transform(X_train)\n",
    "print(vectorizer.get_feature_names_out()[:10])\n"
   ]
  },
  {
   "cell_type": "code",
   "execution_count": 347,
   "metadata": {},
   "outputs": [
    {
     "name": "stdout",
     "output_type": "stream",
     "text": [
      "{'投資': 55, '東森': 72, '傳出': 17, '市場': 46, '相關': 94, '討論': 117, '準備': 81, '外界': 39, '透露': 129, '工作': 45, '今年': 11, '韓國': 146, '院長': 142, '立法': 98, '有人': 70, '發現': 90, '民眾': 76, '立法院': 99, '進入': 130, '看到': 95, '國民黨': 35, '立委': 97, '支持者': 63, '總統': 104, '英文': 111, '一次': 0, '當選': 88, '認為': 119, '清德': 80, '透過': 128, '地方': 37, '台北': 25, '市長': 47, '萬安': 113, '政治': 65, '今天': 10, '宣布': 43, '政府': 64, '美國': 106, '台積電': 28, '現在': 85, '台灣': 27, '重要': 139, '合作': 29, '能夠': 108, '主席': 5, '進行': 131, '黃國': 148, '人員': 9, '持續': 56, '包括': 23, '擔任': 61, '最大': 69, '選前': 133, '選票': 137, '侯友宜': 14, '今日': 12, '新北': 67, '藍綠': 115, '柯文': 73, '國際': 36, '記者會': 118, '超過': 126, '兩岸': 18, '議題': 122, '提到': 60, '過去': 132, '政黨': 66, '民進黨': 77, '賴清德': 125, '選戰': 135, '競選': 101, '分區': 22, '面對': 145, '投票': 54, '代表': 13, '知道': 96, '機會': 74, '去年': 24, '對此': 44, '決定': 78, '員工': 31, '大選': 41, '選舉': 138, '台北市': 26, '公布': 19, '自行': 110, '候選人': 16, '選民': 136, '倒數': 15, '提出': 59, '希望': 48, '支持': 62, '發言人': 92, '回應': 32, '黨團': 149, '未來': 71, '國會': 34, '藍營': 114, '立院': 100, '臉書': 109, '發文': 89, '無法': 82, '陳建仁': 143, '事情': 8, '報告': 38, '接受': 58, '之後': 6, '國家': 33, '影響': 53, '引發': 49, '關注': 140, '事件': 7, '發生': 91, '中央': 3, '需要': 144, '要求': 116, '關鍵': 141, '質詢': 124, '中國': 2, '爭議': 83, '繼續': 105, '現場': 86, '特別': 84, '綠營': 102, '質疑': 123, '海巡': 79, '大谷': 40, '翔平': 107, '日本': 68, '網友': 103, '球迷': 87, '合約': 30, '強調': 51, '萬元': 112, '指出': 57, '大陸': 42, '出現': 21, '正副': 75, '盧秀燕': 93, '調查': 120, '選區': 134, '趙少康': 127, '中華民國': 4, '下午': 1, '議員': 121, '公開': 20, '高端': 147, '影片': 52, '張誌家': 50}\n"
     ]
    },
    {
     "data": {
      "text/plain": [
       "2"
      ]
     },
     "execution_count": 347,
     "metadata": {},
     "output_type": "execute_result"
    }
   ],
   "source": [
    "# fit 完後，可以用 `vocabulary_` 看到詞的 feature index\n",
    "print(vectorizer.vocabulary_)\n",
    "vectorizer.vocabulary_['中國']"
   ]
  },
  {
   "cell_type": "markdown",
   "metadata": {},
   "source": [
    "查看vocabulary各字詞及\"中國\"一詞的index。"
   ]
  },
  {
   "cell_type": "code",
   "execution_count": 348,
   "metadata": {},
   "outputs": [
    {
     "name": "stdout",
     "output_type": "stream",
     "text": [
      "(1324, 150)\n",
      "(568, 150)\n"
     ]
    }
   ],
   "source": [
    "# 不需重新 `fit()` data，因前面已經 `fit()` 過了\n",
    "# 只需將測試數據使用之前訓練好的 vectorizer 轉換為相同的特徵表示形式，而不需要重新fit。\n",
    "# 如果對測試數據再次 fit vectorizer，可能會導致使用了測試數據的信息，進而導致模型的不穩定性和過度擬合的問題。\n",
    "vec_test = vectorizer.transform(X_test)\n",
    "print(vec_train.shape)\n",
    "print(vec_test.shape)"
   ]
  },
  {
   "cell_type": "code",
   "execution_count": null,
   "metadata": {},
   "outputs": [
    {
     "data": {
      "text/html": [
       "<style>#sk-container-id-1 {color: black;}#sk-container-id-1 pre{padding: 0;}#sk-container-id-1 div.sk-toggleable {background-color: white;}#sk-container-id-1 label.sk-toggleable__label {cursor: pointer;display: block;width: 100%;margin-bottom: 0;padding: 0.3em;box-sizing: border-box;text-align: center;}#sk-container-id-1 label.sk-toggleable__label-arrow:before {content: \"▸\";float: left;margin-right: 0.25em;color: #696969;}#sk-container-id-1 label.sk-toggleable__label-arrow:hover:before {color: black;}#sk-container-id-1 div.sk-estimator:hover label.sk-toggleable__label-arrow:before {color: black;}#sk-container-id-1 div.sk-toggleable__content {max-height: 0;max-width: 0;overflow: hidden;text-align: left;background-color: #f0f8ff;}#sk-container-id-1 div.sk-toggleable__content pre {margin: 0.2em;color: black;border-radius: 0.25em;background-color: #f0f8ff;}#sk-container-id-1 input.sk-toggleable__control:checked~div.sk-toggleable__content {max-height: 200px;max-width: 100%;overflow: auto;}#sk-container-id-1 input.sk-toggleable__control:checked~label.sk-toggleable__label-arrow:before {content: \"▾\";}#sk-container-id-1 div.sk-estimator input.sk-toggleable__control:checked~label.sk-toggleable__label {background-color: #d4ebff;}#sk-container-id-1 div.sk-label input.sk-toggleable__control:checked~label.sk-toggleable__label {background-color: #d4ebff;}#sk-container-id-1 input.sk-hidden--visually {border: 0;clip: rect(1px 1px 1px 1px);clip: rect(1px, 1px, 1px, 1px);height: 1px;margin: -1px;overflow: hidden;padding: 0;position: absolute;width: 1px;}#sk-container-id-1 div.sk-estimator {font-family: monospace;background-color: #f0f8ff;border: 1px dotted black;border-radius: 0.25em;box-sizing: border-box;margin-bottom: 0.5em;}#sk-container-id-1 div.sk-estimator:hover {background-color: #d4ebff;}#sk-container-id-1 div.sk-parallel-item::after {content: \"\";width: 100%;border-bottom: 1px solid gray;flex-grow: 1;}#sk-container-id-1 div.sk-label:hover label.sk-toggleable__label {background-color: #d4ebff;}#sk-container-id-1 div.sk-serial::before {content: \"\";position: absolute;border-left: 1px solid gray;box-sizing: border-box;top: 0;bottom: 0;left: 50%;z-index: 0;}#sk-container-id-1 div.sk-serial {display: flex;flex-direction: column;align-items: center;background-color: white;padding-right: 0.2em;padding-left: 0.2em;position: relative;}#sk-container-id-1 div.sk-item {position: relative;z-index: 1;}#sk-container-id-1 div.sk-parallel {display: flex;align-items: stretch;justify-content: center;background-color: white;position: relative;}#sk-container-id-1 div.sk-item::before, #sk-container-id-1 div.sk-parallel-item::before {content: \"\";position: absolute;border-left: 1px solid gray;box-sizing: border-box;top: 0;bottom: 0;left: 50%;z-index: -1;}#sk-container-id-1 div.sk-parallel-item {display: flex;flex-direction: column;z-index: 1;position: relative;background-color: white;}#sk-container-id-1 div.sk-parallel-item:first-child::after {align-self: flex-end;width: 50%;}#sk-container-id-1 div.sk-parallel-item:last-child::after {align-self: flex-start;width: 50%;}#sk-container-id-1 div.sk-parallel-item:only-child::after {width: 0;}#sk-container-id-1 div.sk-dashed-wrapped {border: 1px dashed gray;margin: 0 0.4em 0.5em 0.4em;box-sizing: border-box;padding-bottom: 0.4em;background-color: white;}#sk-container-id-1 div.sk-label label {font-family: monospace;font-weight: bold;display: inline-block;line-height: 1.2em;}#sk-container-id-1 div.sk-label-container {text-align: center;}#sk-container-id-1 div.sk-container {/* jupyter's `normalize.less` sets `[hidden] { display: none; }` but bootstrap.min.css set `[hidden] { display: none !important; }` so we also need the `!important` here to be able to override the default hidden behavior on the sphinx rendered scikit-learn.org. See: https://github.com/scikit-learn/scikit-learn/issues/21755 */display: inline-block !important;position: relative;}#sk-container-id-1 div.sk-text-repr-fallback {display: none;}</style><div id=\"sk-container-id-1\" class=\"sk-top-container\"><div class=\"sk-text-repr-fallback\"><pre>LogisticRegression()</pre><b>In a Jupyter environment, please rerun this cell to show the HTML representation or trust the notebook. <br />On GitHub, the HTML representation is unable to render, please try loading this page with nbviewer.org.</b></div><div class=\"sk-container\" hidden><div class=\"sk-item\"><div class=\"sk-estimator sk-toggleable\"><input class=\"sk-toggleable__control sk-hidden--visually\" id=\"sk-estimator-id-1\" type=\"checkbox\" checked><label for=\"sk-estimator-id-1\" class=\"sk-toggleable__label sk-toggleable__label-arrow\">LogisticRegression</label><div class=\"sk-toggleable__content\"><pre>LogisticRegression()</pre></div></div></div></div></div>"
      ],
      "text/plain": [
       "LogisticRegression()"
      ]
     },
     "execution_count": 86,
     "metadata": {},
     "output_type": "execute_result"
    }
   ],
   "source": [
    "# 建立分類器模型\n",
    "clf = LogisticRegression()\n",
    "clf.fit(vec_train, y_train)\n",
    "clf"
   ]
  },
  {
   "cell_type": "code",
   "execution_count": null,
   "metadata": {},
   "outputs": [
    {
     "data": {
      "text/plain": [
       "array(['政治', '財經', '體育'], dtype=object)"
      ]
     },
     "execution_count": 87,
     "metadata": {},
     "output_type": "execute_result"
    }
   ],
   "source": [
    "clf.classes_"
   ]
  },
  {
   "cell_type": "code",
   "execution_count": null,
   "metadata": {},
   "outputs": [
    {
     "name": "stdout",
     "output_type": "stream",
     "text": [
      "['政治' '政治' '政治' '政治' '體育' '財經' '政治' '政治' '政治' '政治']\n"
     ]
    }
   ],
   "source": [
    "y_pred = clf.predict(vec_test)\n",
    "y_pred_proba = clf.predict_proba(vec_test)\n",
    "print(y_pred[:10])"
   ]
  },
  {
   "cell_type": "markdown",
   "metadata": {},
   "source": [
    "- 得到前10篇測試文章的預測版別。"
   ]
  },
  {
   "cell_type": "code",
   "execution_count": null,
   "metadata": {},
   "outputs": [
    {
     "name": "stdout",
     "output_type": "stream",
     "text": [
      "(568, 3)\n"
     ]
    },
    {
     "data": {
      "text/plain": [
       "array([9.99999840e-01, 1.46487395e-07, 1.39241434e-08])"
      ]
     },
     "execution_count": 89,
     "metadata": {},
     "output_type": "execute_result"
    }
   ],
   "source": [
    "print(y_pred_proba.shape)\n",
    "y_pred_proba[0,:]"
   ]
  },
  {
   "cell_type": "code",
   "execution_count": null,
   "metadata": {},
   "outputs": [
    {
     "name": "stdout",
     "output_type": "stream",
     "text": [
      "              precision    recall  f1-score   support\n",
      "\n",
      "          政治       0.97      0.97      0.97       385\n",
      "          財經       0.91      0.86      0.89        99\n",
      "          體育       0.83      0.89      0.86        84\n",
      "\n",
      "    accuracy                           0.94       568\n",
      "   macro avg       0.90      0.91      0.90       568\n",
      "weighted avg       0.94      0.94      0.94       568\n",
      "\n"
     ]
    }
   ],
   "source": [
    "## Accuracy, Precision, Recall, F1-score\n",
    "print(classification_report(y_test, y_pred))"
   ]
  },
  {
   "cell_type": "code",
   "execution_count": null,
   "metadata": {},
   "outputs": [
    {
     "data": {
      "text/plain": [
       "array([[372,   5,   8],\n",
       "       [  7,  85,   7],\n",
       "       [  6,   3,  75]], dtype=int64)"
      ]
     },
     "execution_count": 91,
     "metadata": {},
     "output_type": "execute_result"
    }
   ],
   "source": [
    "classes = clf.classes_\n",
    "cm = confusion_matrix(y_test, y_pred)\n",
    "cm"
   ]
  },
  {
   "cell_type": "code",
   "execution_count": null,
   "metadata": {},
   "outputs": [
    {
     "data": {
      "text/plain": [
       "(array([0.5, 1.5, 2.5]),\n",
       " [Text(0, 0.5, '政治'), Text(0, 1.5, '財經'), Text(0, 2.5, '體育')])"
      ]
     },
     "execution_count": 92,
     "metadata": {},
     "output_type": "execute_result"
    },
    {
     "data": {
      "image/png": "[encoded data removed]",
      "text/plain": [
       "<Figure size 640x480 with 1 Axes>"
      ]
     },
     "metadata": {},
     "output_type": "display_data"
    }
   ],
   "source": [
    "## Plot confusion matrix\n",
    "fig, ax = plt.subplots()\n",
    "sns.heatmap(cm, annot=True, fmt=\"d\", ax=ax, cmap=plt.cm.Blues, cbar=False)\n",
    "ax.set(\n",
    "    xlabel=\"Pred\",\n",
    "    ylabel=\"True\",\n",
    "    xticklabels=classes,\n",
    "    yticklabels=classes,\n",
    "    title=\"Confusion matrix\",\n",
    ")\n",
    "plt.yticks(rotation=0)"
   ]
  },
  {
   "cell_type": "markdown",
   "metadata": {},
   "source": [
    "- 可看到對角線的值均較大，代表模型的分類效果佳"
   ]
  },
  {
   "cell_type": "markdown",
   "metadata": {},
   "source": [
    "###  tfidf\n",
    "改試試看使用 tf-idf 的 DTM 來代表文章，訓練分類模型的效果"
   ]
  },
  {
   "cell_type": "code",
   "execution_count": 349,
   "metadata": {},
   "outputs": [
    {
     "data": {
      "text/plain": [
       "array([0.        , 0.        , 0.        , 0.        , 0.        ,\n",
       "       0.        , 0.        , 0.        , 0.        , 0.        ,\n",
       "       0.        , 0.        , 0.        , 0.        , 0.        ,\n",
       "       0.        , 0.        , 0.23965584, 0.        , 0.        ,\n",
       "       0.        , 0.        , 0.        , 0.        , 0.        ,\n",
       "       0.        , 0.        , 0.        , 0.        , 0.        ,\n",
       "       0.        , 0.        , 0.        , 0.        , 0.        ,\n",
       "       0.        , 0.        , 0.        , 0.        , 0.23364279,\n",
       "       0.        , 0.        , 0.        , 0.        , 0.        ,\n",
       "       0.25030266, 0.51851817, 0.        , 0.        , 0.        ,\n",
       "       0.        , 0.        , 0.        , 0.        , 0.        ,\n",
       "       0.57393928, 0.        , 0.        , 0.        , 0.        ,\n",
       "       0.        , 0.        , 0.        , 0.        , 0.        ,\n",
       "       0.        , 0.        , 0.        , 0.        , 0.        ,\n",
       "       0.        , 0.        , 0.08513678, 0.        , 0.        ,\n",
       "       0.        , 0.        , 0.        , 0.        , 0.        ,\n",
       "       0.        , 0.24677246, 0.        , 0.        , 0.        ,\n",
       "       0.        , 0.        , 0.        , 0.        , 0.        ,\n",
       "       0.        , 0.        , 0.        , 0.        , 0.21065405,\n",
       "       0.        , 0.        , 0.        , 0.        , 0.        ,\n",
       "       0.        , 0.        , 0.        , 0.        , 0.        ,\n",
       "       0.        , 0.        , 0.        , 0.        , 0.        ,\n",
       "       0.        , 0.        , 0.        , 0.        , 0.        ,\n",
       "       0.        , 0.        , 0.23221278, 0.        , 0.        ,\n",
       "       0.        , 0.        , 0.        , 0.        , 0.        ,\n",
       "       0.        , 0.        , 0.        , 0.        , 0.2462001 ,\n",
       "       0.        , 0.        , 0.        , 0.        , 0.        ,\n",
       "       0.        , 0.        , 0.        , 0.        , 0.        ,\n",
       "       0.        , 0.        , 0.        , 0.        , 0.        ,\n",
       "       0.        , 0.        , 0.        , 0.        , 0.        ])"
      ]
     },
     "execution_count": 349,
     "metadata": {},
     "output_type": "execute_result"
    }
   ],
   "source": [
    "vectorizer = TfidfVectorizer(max_features=150)\n",
    "vec_train = vectorizer.fit_transform(X_train)\n",
    "vec_test = vectorizer.transform(X_test)\n",
    "vec_train.toarray()[0,:]"
   ]
  },
  {
   "cell_type": "code",
   "execution_count": 350,
   "metadata": {},
   "outputs": [
    {
     "name": "stdout",
     "output_type": "stream",
     "text": [
      "              precision    recall  f1-score   support\n",
      "\n",
      "          政治       0.94      0.99      0.97       385\n",
      "          財經       0.90      0.92      0.91        99\n",
      "          體育       0.98      0.74      0.84        84\n",
      "\n",
      "    accuracy                           0.94       568\n",
      "   macro avg       0.94      0.88      0.91       568\n",
      "weighted avg       0.94      0.94      0.94       568\n",
      "\n"
     ]
    }
   ],
   "source": [
    "clf.fit(vec_train, y_train)\n",
    "y_pred = clf.predict(vec_test)\n",
    "y_pred_proba = clf.predict_proba(vec_test)\n",
    "\n",
    "# results\n",
    "## Accuracy, Precision, Recall, F1-score\n",
    "print(classification_report(y_test, y_pred))"
   ]
  },
  {
   "cell_type": "markdown",
   "metadata": {},
   "source": [
    "- 以上述轉換後的tf-idf的資料進行分類器訓練，可看出\"體育\"版別結果較佳，可能體育用字差異較大。"
   ]
  },
  {
   "cell_type": "markdown",
   "metadata": {},
   "source": [
    "###  CV\n",
    "cross-validation-->CV 在機器學習中，是一個很常用來讓模型評估能夠得到更穩定的數值的手法。"
   ]
  },
  {
   "cell_type": "markdown",
   "metadata": {},
   "source": [
    "cross-validation 會自動切成 k 組 train-test dataset。  \n",
    "`cross_validate()` 會回傳經過 cross-validation 的模型評估結果。"
   ]
  },
  {
   "cell_type": "code",
   "execution_count": 351,
   "metadata": {},
   "outputs": [
    {
     "name": "stdout",
     "output_type": "stream",
     "text": [
      "{'estimator': [LogisticRegression(),\n",
      "               LogisticRegression(),\n",
      "               LogisticRegression(),\n",
      "               LogisticRegression(),\n",
      "               LogisticRegression()],\n",
      " 'fit_time': array([0.03150582, 0.02683401, 0.02699471, 0.024575  , 0.02601862]),\n",
      " 'score_time': array([0.01008701, 0.00854611, 0.00848556, 0.00909281, 0.01049852]),\n",
      " 'test_f1_macro': array([0.87479811, 0.8962029 , 0.91729148, 0.87053186, 0.91918775]),\n",
      " 'test_precision_macro': array([0.89841935, 0.90828924, 0.9457583 , 0.91722917, 0.95973738]),\n",
      " 'test_recall_macro': array([0.8597177 , 0.8891253 , 0.8983165 , 0.84468212, 0.88826377])}\n"
     ]
    }
   ],
   "source": [
    "clf = LogisticRegression()\n",
    "vec_train = TfidfVectorizer(max_features=150).fit_transform(X_train)\n",
    "\n",
    "scores = cross_validate(clf, vec_train, y_train, cv=5, scoring=(\"f1_macro\", \"recall_macro\", \"precision_macro\"), return_estimator=True)\n",
    "pprint(scores)"
   ]
  },
  {
   "cell_type": "markdown",
   "metadata": {},
   "source": [
    "`cross_val_predict()` 則會回傳 cv 預測的類別。"
   ]
  },
  {
   "cell_type": "code",
   "execution_count": 352,
   "metadata": {},
   "outputs": [
    {
     "name": "stdout",
     "output_type": "stream",
     "text": [
      "              precision    recall  f1-score   support\n",
      "\n",
      "          政治       0.96      0.99      0.97       936\n",
      "          財經       0.90      0.88      0.89       226\n",
      "          體育       0.92      0.75      0.83       162\n",
      "\n",
      "    accuracy                           0.94      1324\n",
      "   macro avg       0.92      0.88      0.90      1324\n",
      "weighted avg       0.94      0.94      0.94      1324\n",
      "\n"
     ]
    }
   ],
   "source": [
    "y_pred = cross_val_predict(clf, vec_train, y_train, cv=5)\n",
    "print(classification_report(y_train, y_pred))"
   ]
  },
  {
   "cell_type": "markdown",
   "metadata": {},
   "source": [
    "以此方式進行預測，結果也都有9成以上，代表效果不錯。"
   ]
  },
  {
   "cell_type": "markdown",
   "metadata": {},
   "source": [
    "##  比較不同模型效果"
   ]
  },
  {
   "cell_type": "code",
   "execution_count": 353,
   "metadata": {},
   "outputs": [],
   "source": [
    "# 定義模型訓練組合\n",
    "## pipeline: 資料處理 vectorizer + 分類器 clf\n",
    "## 由於 cross-validation 會自動將資料分成 train/test，因此 input 只要給 X, y 即可\n",
    "\n",
    "def train_cv(vectorizer, clf, X, y):\n",
    "\n",
    "    ## train classifier\n",
    "    vec_X = vectorizer.fit_transform(X).toarray()\n",
    "    \n",
    "    ## get cv results\n",
    "    cv_results = cross_validate(clf, vec_X, y, cv=5, return_estimator=True)\n",
    "    y_pred = cross_val_predict(clf, vec_X, y, cv=5)\n",
    "    y_pred_proba = cross_val_predict(clf, vec_X, y, cv=5, method=\"predict_proba\")\n",
    "    \n",
    "    ## Accuracy, Precision, Recall, F1-score\n",
    "    cls_report = classification_report(y, y_pred, output_dict=True)\n",
    "    print(classification_report(y, y_pred))\n",
    "\n",
    "    classes = cv_results['estimator'][0].classes_\n",
    "    \n",
    "    ## Plot confusion matrix\n",
    "    cm = confusion_matrix(y, y_pred)\n",
    "    fig, ax = plt.subplots()\n",
    "    sns.heatmap(cm, annot=True, fmt=\"d\", ax=ax, cmap=plt.cm.Blues, cbar=False)\n",
    "    ax.set(\n",
    "        xlabel=\"Pred\",\n",
    "        ylabel=\"True\",\n",
    "        xticklabels=classes,\n",
    "        yticklabels=classes,\n",
    "        title= str(clf) + \"Confusion matrix\",\n",
    "    )\n",
    "    plt.yticks(rotation=0)\n",
    "\n",
    "    clf.fit(vec_X, y)\n",
    "    # return the model object\n",
    "    return cls_report"
   ]
  },
  {
   "cell_type": "code",
   "execution_count": 354,
   "metadata": {},
   "outputs": [
    {
     "name": "stdout",
     "output_type": "stream",
     "text": [
      "              precision    recall  f1-score   support\n",
      "\n",
      "          政治       0.96      0.99      0.97       936\n",
      "          財經       0.90      0.88      0.89       226\n",
      "          體育       0.92      0.75      0.83       162\n",
      "\n",
      "    accuracy                           0.94      1324\n",
      "   macro avg       0.92      0.88      0.90      1324\n",
      "weighted avg       0.94      0.94      0.94      1324\n",
      "\n"
     ]
    },
    {
     "data": {
      "image/png": "[encoded data removed]",
      "text/plain": [
       "<Figure size 640x480 with 1 Axes>"
      ]
     },
     "metadata": {},
     "output_type": "display_data"
    }
   ],
   "source": [
    "vectorizer = TfidfVectorizer(max_features=150)\n",
    "clf = LogisticRegression()\n",
    "result = train_cv(vectorizer, clf, X_train, y_train)"
   ]
  },
  {
   "cell_type": "code",
   "execution_count": 355,
   "metadata": {},
   "outputs": [
    {
     "name": "stdout",
     "output_type": "stream",
     "text": [
      "====================================================================================================\n",
      "now training: clf_logistic\n",
      "              precision    recall  f1-score   support\n",
      "\n",
      "          政治       0.96      0.99      0.97       936\n",
      "          財經       0.90      0.88      0.89       226\n",
      "          體育       0.92      0.75      0.83       162\n",
      "\n",
      "    accuracy                           0.94      1324\n",
      "   macro avg       0.92      0.88      0.90      1324\n",
      "weighted avg       0.94      0.94      0.94      1324\n",
      "\n",
      "====================================================================================================\n",
      "====================================================================================================\n",
      "now training: clf_dtree\n",
      "              precision    recall  f1-score   support\n",
      "\n",
      "          政治       0.95      0.94      0.94       936\n",
      "          財經       0.78      0.79      0.79       226\n",
      "          體育       0.76      0.79      0.78       162\n",
      "\n",
      "    accuracy                           0.90      1324\n",
      "   macro avg       0.83      0.84      0.84      1324\n",
      "weighted avg       0.90      0.90      0.90      1324\n",
      "\n",
      "====================================================================================================\n",
      "====================================================================================================\n",
      "now training: clf_svm\n"
     ]
    },
    {
     "name": "stdout",
     "output_type": "stream",
     "text": [
      "              precision    recall  f1-score   support\n",
      "\n",
      "          政治       0.96      0.99      0.97       936\n",
      "          財經       0.89      0.89      0.89       226\n",
      "          體育       0.95      0.76      0.84       162\n",
      "\n",
      "    accuracy                           0.94      1324\n",
      "   macro avg       0.93      0.88      0.90      1324\n",
      "weighted avg       0.94      0.94      0.94      1324\n",
      "\n",
      "====================================================================================================\n",
      "====================================================================================================\n",
      "now training: clf_rf\n",
      "              precision    recall  f1-score   support\n",
      "\n",
      "          政治       0.97      0.98      0.97       936\n",
      "          財經       0.86      0.90      0.88       226\n",
      "          體育       0.93      0.81      0.86       162\n",
      "\n",
      "    accuracy                           0.95      1324\n",
      "   macro avg       0.92      0.90      0.91      1324\n",
      "weighted avg       0.95      0.95      0.95      1324\n",
      "\n",
      "====================================================================================================\n"
     ]
    },
    {
     "data": {
      "image/png": "[encoded data removed]",
      "text/plain": [
       "<Figure size 640x480 with 1 Axes>"
      ]
     },
     "metadata": {},
     "output_type": "display_data"
    },
    {
     "data": {
      "image/png": "[encoded data removed]",
      "text/plain": [
       "<Figure size 640x480 with 1 Axes>"
      ]
     },
     "metadata": {},
     "output_type": "display_data"
    },
    {
     "data": {
      "image/png": "[encoded data removed]",
      "text/plain": [
       "<Figure size 640x480 with 1 Axes>"
      ]
     },
     "metadata": {},
     "output_type": "display_data"
    },
    {
     "data": {
      "image/png": "[encoded data removed]",
      "text/plain": [
       "<Figure size 640x480 with 1 Axes>"
      ]
     },
     "metadata": {},
     "output_type": "display_data"
    }
   ],
   "source": [
    "# 準備訓練資料\n",
    "X = data[\"words\"]\n",
    "y = data[\"artCatagory\"]\n",
    "\n",
    "# 把整個資料集七三切\n",
    "X_train, X_test, y_train, y_test = train_test_split(\n",
    "    X, y, test_size=0.3, random_state=777\n",
    ")\n",
    "# 定義模型訓練組合\n",
    "model_set = dict()\n",
    "model_set['clf_logistic'] = LogisticRegression()\n",
    "model_set['clf_dtree'] = DecisionTreeClassifier()\n",
    "model_set['clf_svm'] = svm.SVC(probability=True) # 要使用SVM的predict_proba的話，必須在叫出SVM的時候就將probability設為True\n",
    "model_set['clf_rf'] = RandomForestClassifier()\n",
    "# 定義 vectorizer\n",
    "# vectorizer = CountVectorizer(max_features=150)\n",
    "vectorizer = TfidfVectorizer(max_features=150)\n",
    "# 存結果\n",
    "result_set = dict()\n",
    "\n",
    "for k, model in model_set.items():\n",
    "    print(\"=\"*100)\n",
    "    print(f\"now training: {k}\")\n",
    "    result_set[k] = train_cv(vectorizer, model, X_train, y_train)\n",
    "    print(\"=\"*100)\n"
   ]
  },
  {
   "cell_type": "markdown",
   "metadata": {},
   "source": [
    "- 從結果可看出 clf_dtree 分類效果較差(財經、體育僅有7成準確率)，而clf_rf 分類效果較佳。"
   ]
  },
  {
   "cell_type": "code",
   "execution_count": 356,
   "metadata": {},
   "outputs": [
    {
     "data": {
      "text/plain": [
       "{'政治': {'precision': 0.9576446280991735,\n",
       "  'recall': 0.9903846153846154,\n",
       "  'f1-score': 0.9737394957983193,\n",
       "  'support': 936.0},\n",
       " '財經': {'precision': 0.8968609865470852,\n",
       "  'recall': 0.8849557522123894,\n",
       "  'f1-score': 0.89086859688196,\n",
       "  'support': 226.0},\n",
       " '體育': {'precision': 0.9172932330827067,\n",
       "  'recall': 0.7530864197530864,\n",
       "  'f1-score': 0.8271186440677967,\n",
       "  'support': 162.0},\n",
       " 'accuracy': 0.9433534743202417,\n",
       " 'macro avg': {'precision': 0.9239329492429885,\n",
       "  'recall': 0.8761422624500304,\n",
       "  'f1-score': 0.8972422455826919,\n",
       "  'support': 1324.0},\n",
       " 'weighted avg': {'precision': 0.9423319173866057,\n",
       "  'recall': 0.9433534743202417,\n",
       "  'f1-score': 0.9416538453939071,\n",
       "  'support': 1324.0}}"
      ]
     },
     "execution_count": 356,
     "metadata": {},
     "output_type": "execute_result"
    }
   ],
   "source": [
    "result_set['clf_logistic']"
   ]
  },
  {
   "cell_type": "code",
   "execution_count": 357,
   "metadata": {},
   "outputs": [
    {
     "name": "stdout",
     "output_type": "stream",
     "text": [
      "best model: clf_rf\n",
      "{'accuracy': 0.945619335347432,\n",
      " 'macro avg': {'f1-score': 0.906797063246651,\n",
      "               'precision': 0.9197273722449254,\n",
      "               'recall': 0.8969992324220447,\n",
      "               'support': 1324.0},\n",
      " 'weighted avg': {'f1-score': 0.9451360117550655,\n",
      "                  'precision': 0.9458828079899528,\n",
      "                  'recall': 0.945619335347432,\n",
      "                  'support': 1324.0},\n",
      " '政治': {'f1-score': 0.9744952178533475,\n",
      "        'precision': 0.9693446088794926,\n",
      "        'recall': 0.9797008547008547,\n",
      "        'support': 936.0},\n",
      " '財經': {'f1-score': 0.8812095032397408,\n",
      "        'precision': 0.8607594936708861,\n",
      "        'recall': 0.9026548672566371,\n",
      "        'support': 226.0},\n",
      " '體育': {'f1-score': 0.8646864686468646,\n",
      "        'precision': 0.9290780141843972,\n",
      "        'recall': 0.808641975308642,\n",
      "        'support': 162.0}}\n"
     ]
    }
   ],
   "source": [
    "max = 0\n",
    "best_model_name = \"\"\n",
    "best_model_metric = \"f1-score\"\n",
    "\n",
    "## choose max f1-score model from result_set\n",
    "for k, v in result_set.items():\n",
    "    if v['weighted avg'][best_model_metric] > max:\n",
    "        max = v['weighted avg'][best_model_metric]\n",
    "        best_model_name = k\n",
    "print(f\"best model: {best_model_name}\")\n",
    "pprint(result_set[best_model_name])"
   ]
  },
  {
   "cell_type": "markdown",
   "metadata": {},
   "source": [
    "- 得出rf(random forest)在f1-score的指標下為分類最好的模型"
   ]
  },
  {
   "cell_type": "code",
   "execution_count": 358,
   "metadata": {},
   "outputs": [
    {
     "name": "stdout",
     "output_type": "stream",
     "text": [
      "              precision    recall  f1-score   support\n",
      "\n",
      "          政治       0.95      0.98      0.97       385\n",
      "          財經       0.85      0.84      0.84        99\n",
      "          體育       0.89      0.79      0.84        84\n",
      "\n",
      "    accuracy                           0.93       568\n",
      "   macro avg       0.90      0.87      0.88       568\n",
      "weighted avg       0.92      0.93      0.92       568\n",
      "\n"
     ]
    }
   ],
   "source": [
    "y_pred = model_set['clf_rf'].predict(vectorizer.transform(X_test).toarray())\n",
    "print(classification_report(y_test, y_pred))"
   ]
  },
  {
   "cell_type": "markdown",
   "metadata": {},
   "source": [
    "- 以最好的'clf_rf'模型預測test data，也均有8成5的準確率。"
   ]
  },
  {
   "cell_type": "code",
   "execution_count": 371,
   "metadata": {},
   "outputs": [
    {
     "data": {
      "text/plain": [
       "array(['財經'], dtype=object)"
      ]
     },
     "execution_count": 371,
     "metadata": {},
     "output_type": "execute_result"
    }
   ],
   "source": [
    "model_set['clf_rf'].predict(vectorizer.transform([\"基金 投資 高雄 東森 聯合 電動車 電池 手機\"]).toarray())"
   ]
  },
  {
   "cell_type": "markdown",
   "metadata": {},
   "source": [
    "- 最佳模型為clf_rf ，其中Decision Tree表現較差，另外三種表現差不多。"
   ]
  },
  {
   "cell_type": "markdown",
   "metadata": {},
   "source": [
    "##  分析可解釋模型的結果"
   ]
  },
  {
   "cell_type": "markdown",
   "metadata": {},
   "source": [
    "### 各字詞特徵的estimate係數\n",
    "對於線性的模型，可以藉由相關係數，查看資料特徵（詞）對於判斷分類的影響\n",
    "+ coefficient estimate 代表特徵每增加一單位（在此處會是該文章的某字詞頻 +1），y是1的發生機率比y是0的發生機率多幾倍（odds ratio 勝算比）\n",
    "+ 這裡舉logistic regression + cv tokenizer 為例"
   ]
  },
  {
   "cell_type": "code",
   "execution_count": 359,
   "metadata": {},
   "outputs": [],
   "source": [
    "def plot_coef(logistic_reg_model, feature_names, top_n=10):\n",
    "    # 選出某個類別的前10大影響力字詞\n",
    "    log_odds = logistic_reg_model.coef_.T\n",
    "    coef_df = pd.DataFrame(\n",
    "        log_odds, \n",
    "        columns=logistic_reg_model.classes_, index=feature_names\n",
    "    )\n",
    "    for label in coef_df.columns:\n",
    "        select_words = (\n",
    "            coef_df[[label]]\n",
    "            .sort_values(by=label, ascending=False)\n",
    "            .iloc[np.r_[0:top_n, -top_n:0]]\n",
    "        )\n",
    "        word = select_words.index\n",
    "        count = select_words[label]\n",
    "        category_colors = np.where(\n",
    "            select_words[label] >= 0, \"darkseagreen\", \"rosybrown\"\n",
    "        )  # 設定顏色\n",
    "\n",
    "        fig, ax = plt.subplots(figsize=(8, top_n*0.8))  # 設定畫布\n",
    "        plt.rcParams[\"axes.unicode_minus\"] = False\n",
    "\n",
    "        ax.barh(word, count, color=category_colors)\n",
    "        ax.invert_yaxis()\n",
    "        ax.set_title(\n",
    "            \"Coeff increase/decrease odds ratio of 「\" + label + \"」 label the most\",\n",
    "            loc=\"left\",\n",
    "            size=16,\n",
    "        )\n",
    "        ax.set_ylabel(\"word\", size=14)\n",
    "        ax.set_xlabel(\"odds ratio\", size=14)"
   ]
  },
  {
   "cell_type": "code",
   "execution_count": 360,
   "metadata": {},
   "outputs": [
    {
     "data": {
      "image/png": "[encoded data removed]",
      "text/plain": [
       "<Figure size 800x800 with 1 Axes>"
      ]
     },
     "metadata": {},
     "output_type": "display_data"
    },
    {
     "data": {
      "image/png": "[encoded data removed]",
      "text/plain": [
       "<Figure size 800x800 with 1 Axes>"
      ]
     },
     "metadata": {},
     "output_type": "display_data"
    },
    {
     "data": {
      "image/png": "[encoded data removed]",
      "text/plain": [
       "<Figure size 800x800 with 1 Axes>"
      ]
     },
     "metadata": {},
     "output_type": "display_data"
    }
   ],
   "source": [
    "plot_coef(logistic_reg_model=model_set['clf_logistic'], feature_names=vectorizer.get_feature_names_out(), top_n=10)"
   ]
  },
  {
   "cell_type": "markdown",
   "metadata": {},
   "source": [
    "+ 「政治」中出現總統、國民黨、民進黨等新聞關鍵字眼。\n",
    "+ 「財經」中出現市場、台積電、投資等關鍵字眼。\n",
    "+ 「體育」中則出現球迷、大谷、翔平相關字眼。\n"
   ]
  },
  {
   "cell_type": "markdown",
   "metadata": {},
   "source": [
    "## 預測新聞類別"
   ]
  },
  {
   "cell_type": "markdown",
   "metadata": {},
   "source": [
    "`udn_news.csv` 為聯合新聞網資料\n",
    "- 版別：運動、全球、社會、產經、股市\n",
    "- 時間範圍：2024/03/15 ~ 2024/03/31\n",
    "- 工作流程平台搜尋/排除關鍵字：無"
   ]
  },
  {
   "cell_type": "code",
   "execution_count": 361,
   "metadata": {},
   "outputs": [
    {
     "data": {
      "text/html": [
       "<div>\n",
       "<style scoped>\n",
       "    .dataframe tbody tr th:only-of-type {\n",
       "        vertical-align: middle;\n",
       "    }\n",
       "\n",
       "    .dataframe tbody tr th {\n",
       "        vertical-align: top;\n",
       "    }\n",
       "\n",
       "    .dataframe thead th {\n",
       "        text-align: right;\n",
       "    }\n",
       "</style>\n",
       "<table border=\"1\" class=\"dataframe\">\n",
       "  <thead>\n",
       "    <tr style=\"text-align: right;\">\n",
       "      <th></th>\n",
       "      <th>system_id</th>\n",
       "      <th>artTitle</th>\n",
       "      <th>artDate</th>\n",
       "      <th>artCatagory</th>\n",
       "      <th>artUrl</th>\n",
       "      <th>artContent</th>\n",
       "      <th>dataSource</th>\n",
       "    </tr>\n",
       "  </thead>\n",
       "  <tbody>\n",
       "    <tr>\n",
       "      <th>0</th>\n",
       "      <td>1</td>\n",
       "      <td>MLB／曾說「不是朋友」成真 大谷翔平解除追蹤水原一平</td>\n",
       "      <td>2024/3/21 09:56</td>\n",
       "      <td>運動</td>\n",
       "      <td>https://udn.com/news/story/11247/7845714</td>\n",
       "      <td>曾經是形影不離的戰友，大谷翔平與水原一平如今因金錢關係成為陌生人，大谷翔平的個人社群也解除對...</td>\n",
       "      <td>UDN</td>\n",
       "    </tr>\n",
       "    <tr>\n",
       "      <th>1</th>\n",
       "      <td>2</td>\n",
       "      <td>MLB／水原一平涉賭被解僱 日本網友震驚「巨大背叛」</td>\n",
       "      <td>2024/3/21 10:28</td>\n",
       "      <td>運動</td>\n",
       "      <td>https://udn.com/news/story/11247/7845808</td>\n",
       "      <td>日本棒球明星大谷翔平的翻譯水原一平傳出涉嫌竊取數百萬美元非法簽賭，已遭洛杉磯道奇解雇。大谷轉...</td>\n",
       "      <td>UDN</td>\n",
       "    </tr>\n",
       "    <tr>\n",
       "      <th>2</th>\n",
       "      <td>3</td>\n",
       "      <td>MLB／偷大谷翔平的錢還賭債！水原一平IG被球迷灌爆：你搞屁啊</td>\n",
       "      <td>2024/3/21 10:36</td>\n",
       "      <td>運動</td>\n",
       "      <td>https://udn.com/news/story/11247/7845856</td>\n",
       "      <td>美國職棒大聯盟（MLB）球星大谷翔平的隨行翻譯水原一平，因涉嫌竊取大谷至少450萬美元進行非...</td>\n",
       "      <td>UDN</td>\n",
       "    </tr>\n",
       "    <tr>\n",
       "      <th>3</th>\n",
       "      <td>4</td>\n",
       "      <td>MLB／國內球評看水原一平醜聞 形容「比大谷結婚令人震撼」</td>\n",
       "      <td>2024/3/21 10:56</td>\n",
       "      <td>運動</td>\n",
       "      <td>https://udn.com/news/story/11247/7845919</td>\n",
       "      <td>道奇、教士隊在南韓首爾進行新球季第2場比賽前，大谷翔平的翻譯水原一平遭球團開除，一位美職賽事...</td>\n",
       "      <td>UDN</td>\n",
       "    </tr>\n",
       "    <tr>\n",
       "      <th>4</th>\n",
       "      <td>5</td>\n",
       "      <td>MLB／大谷翔平恐受牽連？水原一平稱他曾代為轉帳償還賭債後才改口</td>\n",
       "      <td>2024/3/21 12:13</td>\n",
       "      <td>運動</td>\n",
       "      <td>https://udn.com/news/story/11247/7846177</td>\n",
       "      <td>美國職棒大聯盟明星大谷翔平的翻譯水原一平傳出涉賭，遭球隊解僱。水原美國時間19日接受ESPN...</td>\n",
       "      <td>UDN</td>\n",
       "    </tr>\n",
       "    <tr>\n",
       "      <th>...</th>\n",
       "      <td>...</td>\n",
       "      <td>...</td>\n",
       "      <td>...</td>\n",
       "      <td>...</td>\n",
       "      <td>...</td>\n",
       "      <td>...</td>\n",
       "      <td>...</td>\n",
       "    </tr>\n",
       "    <tr>\n",
       "      <th>9272</th>\n",
       "      <td>9275</td>\n",
       "      <td>鴻海、貿聯 四檔亮眼</td>\n",
       "      <td>2024/3/31 23:31</td>\n",
       "      <td>股市</td>\n",
       "      <td>https://udn.com/news/story/7255/7868565</td>\n",
       "      <td>根據美系券商最新報告指出，2024~2025年電動車電池價格將大幅下降，電動車售價亦將降價，...</td>\n",
       "      <td>UDN</td>\n",
       "    </tr>\n",
       "    <tr>\n",
       "      <th>9273</th>\n",
       "      <td>9276</td>\n",
       "      <td>全民權證／世界 挑價內外20%</td>\n",
       "      <td>2024/3/31 23:29</td>\n",
       "      <td>股市</td>\n",
       "      <td>https://udn.com/news/story/7255/7868567</td>\n",
       "      <td>世界（5347）表示，今年半導體市場是逐季加溫，即使中國大陸成熟製程開出產能，世界也不打價格...</td>\n",
       "      <td>UDN</td>\n",
       "    </tr>\n",
       "    <tr>\n",
       "      <th>9274</th>\n",
       "      <td>9277</td>\n",
       "      <td>全民權證／富邦金 兩檔搶鏡</td>\n",
       "      <td>2024/3/31 23:30</td>\n",
       "      <td>股市</td>\n",
       "      <td>https://udn.com/news/story/7255/7868570</td>\n",
       "      <td>富邦金（2881）2023年稅後益年增41%至660億元，去年第4季獲利受避險成本影響，每股...</td>\n",
       "      <td>UDN</td>\n",
       "    </tr>\n",
       "    <tr>\n",
       "      <th>9275</th>\n",
       "      <td>9278</td>\n",
       "      <td>全民權證／樺漢 選逾90天期</td>\n",
       "      <td>2024/3/31 23:30</td>\n",
       "      <td>股市</td>\n",
       "      <td>https://udn.com/news/story/7255/7868574</td>\n",
       "      <td>樺漢（6414）在手訂單良好，加上品牌通路營收提升，近年轉型聚焦高毛利的純軟及軟硬雲ESaa...</td>\n",
       "      <td>UDN</td>\n",
       "    </tr>\n",
       "    <tr>\n",
       "      <th>9276</th>\n",
       "      <td>9279</td>\n",
       "      <td>最牛一輪／華通閃亮 中信3A沾光</td>\n",
       "      <td>2024/3/31 23:28</td>\n",
       "      <td>股市</td>\n",
       "      <td>https://udn.com/news/story/7255/7868578</td>\n",
       "      <td>華通（2313）布局低軌衛星，2023年相關營收占比約7%至8%，今年兩家美系客戶拉貨積極，...</td>\n",
       "      <td>UDN</td>\n",
       "    </tr>\n",
       "  </tbody>\n",
       "</table>\n",
       "<p>9277 rows × 7 columns</p>\n",
       "</div>"
      ],
      "text/plain": [
       "      system_id                          artTitle          artDate  \\\n",
       "0             1       MLB／曾說「不是朋友」成真 大谷翔平解除追蹤水原一平  2024/3/21 09:56   \n",
       "1             2        MLB／水原一平涉賭被解僱 日本網友震驚「巨大背叛」  2024/3/21 10:28   \n",
       "2             3   MLB／偷大谷翔平的錢還賭債！水原一平IG被球迷灌爆：你搞屁啊  2024/3/21 10:36   \n",
       "3             4     MLB／國內球評看水原一平醜聞 形容「比大谷結婚令人震撼」  2024/3/21 10:56   \n",
       "4             5  MLB／大谷翔平恐受牽連？水原一平稱他曾代為轉帳償還賭債後才改口  2024/3/21 12:13   \n",
       "...         ...                               ...              ...   \n",
       "9272       9275                        鴻海、貿聯 四檔亮眼  2024/3/31 23:31   \n",
       "9273       9276                   全民權證／世界 挑價內外20%  2024/3/31 23:29   \n",
       "9274       9277                     全民權證／富邦金 兩檔搶鏡  2024/3/31 23:30   \n",
       "9275       9278                    全民權證／樺漢 選逾90天期  2024/3/31 23:30   \n",
       "9276       9279                  最牛一輪／華通閃亮 中信3A沾光  2024/3/31 23:28   \n",
       "\n",
       "     artCatagory                                    artUrl  \\\n",
       "0             運動  https://udn.com/news/story/11247/7845714   \n",
       "1             運動  https://udn.com/news/story/11247/7845808   \n",
       "2             運動  https://udn.com/news/story/11247/7845856   \n",
       "3             運動  https://udn.com/news/story/11247/7845919   \n",
       "4             運動  https://udn.com/news/story/11247/7846177   \n",
       "...          ...                                       ...   \n",
       "9272          股市   https://udn.com/news/story/7255/7868565   \n",
       "9273          股市   https://udn.com/news/story/7255/7868567   \n",
       "9274          股市   https://udn.com/news/story/7255/7868570   \n",
       "9275          股市   https://udn.com/news/story/7255/7868574   \n",
       "9276          股市   https://udn.com/news/story/7255/7868578   \n",
       "\n",
       "                                             artContent dataSource  \n",
       "0     曾經是形影不離的戰友，大谷翔平與水原一平如今因金錢關係成為陌生人，大谷翔平的個人社群也解除對...        UDN  \n",
       "1     日本棒球明星大谷翔平的翻譯水原一平傳出涉嫌竊取數百萬美元非法簽賭，已遭洛杉磯道奇解雇。大谷轉...        UDN  \n",
       "2     美國職棒大聯盟（MLB）球星大谷翔平的隨行翻譯水原一平，因涉嫌竊取大谷至少450萬美元進行非...        UDN  \n",
       "3     道奇、教士隊在南韓首爾進行新球季第2場比賽前，大谷翔平的翻譯水原一平遭球團開除，一位美職賽事...        UDN  \n",
       "4     美國職棒大聯盟明星大谷翔平的翻譯水原一平傳出涉賭，遭球隊解僱。水原美國時間19日接受ESPN...        UDN  \n",
       "...                                                 ...        ...  \n",
       "9272  根據美系券商最新報告指出，2024~2025年電動車電池價格將大幅下降，電動車售價亦將降價，...        UDN  \n",
       "9273  世界（5347）表示，今年半導體市場是逐季加溫，即使中國大陸成熟製程開出產能，世界也不打價格...        UDN  \n",
       "9274  富邦金（2881）2023年稅後益年增41%至660億元，去年第4季獲利受避險成本影響，每股...        UDN  \n",
       "9275  樺漢（6414）在手訂單良好，加上品牌通路營收提升，近年轉型聚焦高毛利的純軟及軟硬雲ESaa...        UDN  \n",
       "9276  華通（2313）布局低軌衛星，2023年相關營收占比約7%至8%，今年兩家美系客戶拉貨積極，...        UDN  \n",
       "\n",
       "[9277 rows x 7 columns]"
      ]
     },
     "execution_count": 361,
     "metadata": {},
     "output_type": "execute_result"
    }
   ],
   "source": [
    "ct = pd.read_csv(\"udn_new.csv\")\n",
    "ct.dropna(inplace=True)\n",
    "ct"
   ]
  },
  {
   "cell_type": "code",
   "execution_count": 362,
   "metadata": {},
   "outputs": [
    {
     "data": {
      "text/html": [
       "<div>\n",
       "<style scoped>\n",
       "    .dataframe tbody tr th:only-of-type {\n",
       "        vertical-align: middle;\n",
       "    }\n",
       "\n",
       "    .dataframe tbody tr th {\n",
       "        vertical-align: top;\n",
       "    }\n",
       "\n",
       "    .dataframe thead th {\n",
       "        text-align: right;\n",
       "    }\n",
       "</style>\n",
       "<table border=\"1\" class=\"dataframe\">\n",
       "  <thead>\n",
       "    <tr style=\"text-align: right;\">\n",
       "      <th></th>\n",
       "      <th>content</th>\n",
       "      <th>artUrl</th>\n",
       "      <th>artCatagory</th>\n",
       "      <th>words</th>\n",
       "    </tr>\n",
       "  </thead>\n",
       "  <tbody>\n",
       "    <tr>\n",
       "      <th>0</th>\n",
       "      <td>MLB／曾說「不是朋友」成真 大谷翔平解除追蹤水原一平曾經是形影不離的戰友，大谷翔平與水原一...</td>\n",
       "      <td>https://udn.com/news/story/11247/7845714</td>\n",
       "      <td>運動</td>\n",
       "      <td>MLB 朋友 大谷 翔平 解除 追蹤 水原 一平 曾經 形影不離 戰友 大谷 翔平 水原 一...</td>\n",
       "    </tr>\n",
       "    <tr>\n",
       "      <th>1</th>\n",
       "      <td>MLB／水原一平涉賭被解僱 日本網友震驚「巨大背叛」日本棒球明星大谷翔平的翻譯水原一平傳出涉...</td>\n",
       "      <td>https://udn.com/news/story/11247/7845808</td>\n",
       "      <td>運動</td>\n",
       "      <td>MLB 水原 一平 涉賭 解僱 日本 網友 震驚 巨大 背叛 日本 棒球 明星 大谷 翔平 ...</td>\n",
       "    </tr>\n",
       "    <tr>\n",
       "      <th>2</th>\n",
       "      <td>MLB／偷大谷翔平的錢還賭債！水原一平IG被球迷灌爆：你搞屁啊美國職棒大聯盟（MLB）球星大...</td>\n",
       "      <td>https://udn.com/news/story/11247/7845856</td>\n",
       "      <td>運動</td>\n",
       "      <td>MLB 大谷 翔平 錢還 賭債 水原 一平 IG 球迷 灌爆 美國 職棒 MLB 球星 大谷...</td>\n",
       "    </tr>\n",
       "    <tr>\n",
       "      <th>3</th>\n",
       "      <td>MLB／國內球評看水原一平醜聞 形容「比大谷結婚令人震撼」道奇、教士隊在南韓首爾進行新球季第...</td>\n",
       "      <td>https://udn.com/news/story/11247/7845919</td>\n",
       "      <td>運動</td>\n",
       "      <td>MLB 國內 球評 水原 一平 醜聞 形容 大谷 結婚 令人 震撼 道奇 教士 南韓 首爾 ...</td>\n",
       "    </tr>\n",
       "    <tr>\n",
       "      <th>4</th>\n",
       "      <td>MLB／大谷翔平恐受牽連？水原一平稱他曾代為轉帳償還賭債後才改口美國職棒大聯盟明星大谷翔平的...</td>\n",
       "      <td>https://udn.com/news/story/11247/7846177</td>\n",
       "      <td>運動</td>\n",
       "      <td>MLB 大谷 翔平 恐受 牽連 水原 一平稱 曾代為 轉帳 償還 賭債 改口 美國 職棒 明...</td>\n",
       "    </tr>\n",
       "  </tbody>\n",
       "</table>\n",
       "</div>"
      ],
      "text/plain": [
       "                                             content  \\\n",
       "0  MLB／曾說「不是朋友」成真 大谷翔平解除追蹤水原一平曾經是形影不離的戰友，大谷翔平與水原一...   \n",
       "1  MLB／水原一平涉賭被解僱 日本網友震驚「巨大背叛」日本棒球明星大谷翔平的翻譯水原一平傳出涉...   \n",
       "2  MLB／偷大谷翔平的錢還賭債！水原一平IG被球迷灌爆：你搞屁啊美國職棒大聯盟（MLB）球星大...   \n",
       "3  MLB／國內球評看水原一平醜聞 形容「比大谷結婚令人震撼」道奇、教士隊在南韓首爾進行新球季第...   \n",
       "4  MLB／大谷翔平恐受牽連？水原一平稱他曾代為轉帳償還賭債後才改口美國職棒大聯盟明星大谷翔平的...   \n",
       "\n",
       "                                     artUrl artCatagory  \\\n",
       "0  https://udn.com/news/story/11247/7845714          運動   \n",
       "1  https://udn.com/news/story/11247/7845808          運動   \n",
       "2  https://udn.com/news/story/11247/7845856          運動   \n",
       "3  https://udn.com/news/story/11247/7845919          運動   \n",
       "4  https://udn.com/news/story/11247/7846177          運動   \n",
       "\n",
       "                                               words  \n",
       "0  MLB 朋友 大谷 翔平 解除 追蹤 水原 一平 曾經 形影不離 戰友 大谷 翔平 水原 一...  \n",
       "1  MLB 水原 一平 涉賭 解僱 日本 網友 震驚 巨大 背叛 日本 棒球 明星 大谷 翔平 ...  \n",
       "2  MLB 大谷 翔平 錢還 賭債 水原 一平 IG 球迷 灌爆 美國 職棒 MLB 球星 大谷...  \n",
       "3  MLB 國內 球評 水原 一平 醜聞 形容 大谷 結婚 令人 震撼 道奇 教士 南韓 首爾 ...  \n",
       "4  MLB 大谷 翔平 恐受 牽連 水原 一平稱 曾代為 轉帳 償還 賭債 改口 美國 職棒 明...  "
      ]
     },
     "execution_count": 362,
     "metadata": {},
     "output_type": "execute_result"
    }
   ],
   "source": [
    "# 移除網址格式\n",
    "ct[\"artContent\"].str.replace(\"(http|https)://.*\", \"\", regex=True)\n",
    "ct[\"artTitle\"].str.replace(\"(http|https)://.*\", \"\", regex=True)\n",
    "ct[\"artContent\"].str.replace(\"[^\\u4e00-\\u9fa5]+\", \"\", regex=True)\n",
    "ct[\"artTitle\"].str.replace(\"[^\\u4e00-\\u9fa5]+\", \"\", regex=True)\n",
    "\n",
    "# 留下 content\n",
    "ct[\"content\"] = ct[\"artTitle\"] + ct[\"artContent\"]\n",
    "ct = ct.loc[:,[\"content\", \"artUrl\", \"artCatagory\"]]  # 文章內容 文章連結\n",
    "\n",
    "# 設定斷詞 function\n",
    "def getToken(row):\n",
    "    seg_list = jieba.cut(row, cut_all=False)\n",
    "    seg_list = [\n",
    "        w for w in seg_list if w not in stopWords and len(w) > 1\n",
    "    ]  # 篩選掉停用字與字元數大於1的詞彙\n",
    "    return seg_list\n",
    "\n",
    "ct[\"words\"] = ct[\"content\"].apply(getToken).map(\" \".join)\n",
    "ct.head()"
   ]
  },
  {
   "cell_type": "code",
   "execution_count": 363,
   "metadata": {},
   "outputs": [
    {
     "data": {
      "text/plain": [
       "artCatagory\n",
       "產經    2530\n",
       "全球    2124\n",
       "社會    2119\n",
       "股市    1421\n",
       "運動    1083\n",
       "Name: count, dtype: int64"
      ]
     },
     "execution_count": 363,
     "metadata": {},
     "output_type": "execute_result"
    }
   ],
   "source": [
    "ct['artCatagory'].value_counts()"
   ]
  },
  {
   "cell_type": "code",
   "execution_count": 364,
   "metadata": {},
   "outputs": [
    {
     "name": "stdout",
     "output_type": "stream",
     "text": [
      "              precision    recall  f1-score   support\n",
      "\n",
      "          政治       0.77      0.49      0.60      4243\n",
      "          財經       0.61      0.84      0.71      3951\n",
      "          體育       0.66      0.69      0.68      1083\n",
      "\n",
      "    accuracy                           0.66      9277\n",
      "   macro avg       0.68      0.68      0.66      9277\n",
      "weighted avg       0.69      0.66      0.65      9277\n",
      "\n"
     ]
    }
   ],
   "source": [
    "mapper = {\"產經\":\"財經\", \"全球\":\"政治\", \"社會\":\"政治\",\"股市\":\"財經\", \"運動\":\"體育\"}\n",
    "ct['artCatagory'] = ct['artCatagory'].map(mapper)\n",
    "\n",
    "X = ct['words']\n",
    "y = ct['artCatagory']\n",
    "\n",
    "y_pred = model_set[best_model_name].predict(vectorizer.transform(X).toarray())\n",
    "print(classification_report(y, y_pred))"
   ]
  },
  {
   "cell_type": "markdown",
   "metadata": {},
   "source": [
    "- 可看到在政治版別的文章預測結果還行，而在財經、體育的文章預測結果免強及格。"
   ]
  },
  {
   "cell_type": "code",
   "execution_count": 365,
   "metadata": {},
   "outputs": [
    {
     "data": {
      "text/html": [
       "<div>\n",
       "<style scoped>\n",
       "    .dataframe tbody tr th:only-of-type {\n",
       "        vertical-align: middle;\n",
       "    }\n",
       "\n",
       "    .dataframe tbody tr th {\n",
       "        vertical-align: top;\n",
       "    }\n",
       "\n",
       "    .dataframe thead th {\n",
       "        text-align: right;\n",
       "    }\n",
       "</style>\n",
       "<table border=\"1\" class=\"dataframe\">\n",
       "  <thead>\n",
       "    <tr style=\"text-align: right;\">\n",
       "      <th></th>\n",
       "      <th>words</th>\n",
       "      <th>artCatagory</th>\n",
       "      <th>pred</th>\n",
       "    </tr>\n",
       "  </thead>\n",
       "  <tbody>\n",
       "    <tr>\n",
       "      <th>0</th>\n",
       "      <td>MLB 朋友 大谷 翔平 解除 追蹤 水原 一平 曾經 形影不離 戰友 大谷 翔平 水原 一...</td>\n",
       "      <td>體育</td>\n",
       "      <td>體育</td>\n",
       "    </tr>\n",
       "    <tr>\n",
       "      <th>1</th>\n",
       "      <td>MLB 水原 一平 涉賭 解僱 日本 網友 震驚 巨大 背叛 日本 棒球 明星 大谷 翔平 ...</td>\n",
       "      <td>體育</td>\n",
       "      <td>體育</td>\n",
       "    </tr>\n",
       "    <tr>\n",
       "      <th>2</th>\n",
       "      <td>MLB 大谷 翔平 錢還 賭債 水原 一平 IG 球迷 灌爆 美國 職棒 MLB 球星 大谷...</td>\n",
       "      <td>體育</td>\n",
       "      <td>體育</td>\n",
       "    </tr>\n",
       "    <tr>\n",
       "      <th>3</th>\n",
       "      <td>MLB 國內 球評 水原 一平 醜聞 形容 大谷 結婚 令人 震撼 道奇 教士 南韓 首爾 ...</td>\n",
       "      <td>體育</td>\n",
       "      <td>體育</td>\n",
       "    </tr>\n",
       "    <tr>\n",
       "      <th>4</th>\n",
       "      <td>MLB 大谷 翔平 恐受 牽連 水原 一平稱 曾代為 轉帳 償還 賭債 改口 美國 職棒 明...</td>\n",
       "      <td>體育</td>\n",
       "      <td>體育</td>\n",
       "    </tr>\n",
       "    <tr>\n",
       "      <th>...</th>\n",
       "      <td>...</td>\n",
       "      <td>...</td>\n",
       "      <td>...</td>\n",
       "    </tr>\n",
       "    <tr>\n",
       "      <th>9272</th>\n",
       "      <td>鴻海 貿聯 四檔 亮眼 美系 券商 最新 報告 指出 2024 2025 電動車 電池 價格...</td>\n",
       "      <td>財經</td>\n",
       "      <td>財經</td>\n",
       "    </tr>\n",
       "    <tr>\n",
       "      <th>9273</th>\n",
       "      <td>全民 權證 挑價 內外 20% 5347 今年 半導體 市場 逐季 加溫 中國 大陸 成熟 ...</td>\n",
       "      <td>財經</td>\n",
       "      <td>財經</td>\n",
       "    </tr>\n",
       "    <tr>\n",
       "      <th>9274</th>\n",
       "      <td>全民 權證 富邦金 兩檔 搶鏡 富邦金 2881 2023 稅後 益年 41% 660 億元...</td>\n",
       "      <td>財經</td>\n",
       "      <td>財經</td>\n",
       "    </tr>\n",
       "    <tr>\n",
       "      <th>9275</th>\n",
       "      <td>全民 權證 樺漢 90 天期 樺漢 6414 在手 訂單 良好 品牌 通路 營收 提升 近年...</td>\n",
       "      <td>財經</td>\n",
       "      <td>財經</td>\n",
       "    </tr>\n",
       "    <tr>\n",
       "      <th>9276</th>\n",
       "      <td>最牛 一輪 華通 閃亮 中信 3A 光華 2313 布局 低軌 衛星 2023 相關 營收 ...</td>\n",
       "      <td>財經</td>\n",
       "      <td>財經</td>\n",
       "    </tr>\n",
       "  </tbody>\n",
       "</table>\n",
       "<p>9277 rows × 3 columns</p>\n",
       "</div>"
      ],
      "text/plain": [
       "                                                  words artCatagory pred\n",
       "0     MLB 朋友 大谷 翔平 解除 追蹤 水原 一平 曾經 形影不離 戰友 大谷 翔平 水原 一...          體育   體育\n",
       "1     MLB 水原 一平 涉賭 解僱 日本 網友 震驚 巨大 背叛 日本 棒球 明星 大谷 翔平 ...          體育   體育\n",
       "2     MLB 大谷 翔平 錢還 賭債 水原 一平 IG 球迷 灌爆 美國 職棒 MLB 球星 大谷...          體育   體育\n",
       "3     MLB 國內 球評 水原 一平 醜聞 形容 大谷 結婚 令人 震撼 道奇 教士 南韓 首爾 ...          體育   體育\n",
       "4     MLB 大谷 翔平 恐受 牽連 水原 一平稱 曾代為 轉帳 償還 賭債 改口 美國 職棒 明...          體育   體育\n",
       "...                                                 ...         ...  ...\n",
       "9272  鴻海 貿聯 四檔 亮眼 美系 券商 最新 報告 指出 2024 2025 電動車 電池 價格...          財經   財經\n",
       "9273  全民 權證 挑價 內外 20% 5347 今年 半導體 市場 逐季 加溫 中國 大陸 成熟 ...          財經   財經\n",
       "9274  全民 權證 富邦金 兩檔 搶鏡 富邦金 2881 2023 稅後 益年 41% 660 億元...          財經   財經\n",
       "9275  全民 權證 樺漢 90 天期 樺漢 6414 在手 訂單 良好 品牌 通路 營收 提升 近年...          財經   財經\n",
       "9276  最牛 一輪 華通 閃亮 中信 3A 光華 2313 布局 低軌 衛星 2023 相關 營收 ...          財經   財經\n",
       "\n",
       "[9277 rows x 3 columns]"
      ]
     },
     "execution_count": 365,
     "metadata": {},
     "output_type": "execute_result"
    }
   ],
   "source": [
    "ct['pred'] = y_pred\n",
    "ct.loc[:,['words', 'artCatagory',\"pred\"]]"
   ]
  },
  {
   "cell_type": "code",
   "execution_count": 366,
   "metadata": {},
   "outputs": [
    {
     "data": {
      "text/html": [
       "<div>\n",
       "<style scoped>\n",
       "    .dataframe tbody tr th:only-of-type {\n",
       "        vertical-align: middle;\n",
       "    }\n",
       "\n",
       "    .dataframe tbody tr th {\n",
       "        vertical-align: top;\n",
       "    }\n",
       "\n",
       "    .dataframe thead th {\n",
       "        text-align: right;\n",
       "    }\n",
       "</style>\n",
       "<table border=\"1\" class=\"dataframe\">\n",
       "  <thead>\n",
       "    <tr style=\"text-align: right;\">\n",
       "      <th></th>\n",
       "      <th>words</th>\n",
       "      <th>artCatagory</th>\n",
       "      <th>pred</th>\n",
       "    </tr>\n",
       "  </thead>\n",
       "  <tbody>\n",
       "    <tr>\n",
       "      <th>68</th>\n",
       "      <td>LLB 謝國城 賽制 龜山 福林 少棒 強權 解析 遴選 LLB 少棒 威廉 波特 代表隊 ...</td>\n",
       "      <td>體育</td>\n",
       "      <td>財經</td>\n",
       "    </tr>\n",
       "    <tr>\n",
       "      <th>71</th>\n",
       "      <td>二輪 選秀 咖變 一線 球星 大頭 布朗 成就 尼克 紐約 尼克 後衛 大頭 布朗 NBA ...</td>\n",
       "      <td>體育</td>\n",
       "      <td>財經</td>\n",
       "    </tr>\n",
       "    <tr>\n",
       "      <th>72</th>\n",
       "      <td>愛德華 霸氣 比美 閃電俠 韋德 成狼王 瞄準 美國 王牌 灰狼 三月初 宣布 唐斯 Kar...</td>\n",
       "      <td>體育</td>\n",
       "      <td>財經</td>\n",
       "    </tr>\n",
       "    <tr>\n",
       "      <th>73</th>\n",
       "      <td>中職 樂天 後院 失火 何不 考慮 關門 樂天 桃猿 官辦 熱身賽 頻遭 對手 逆轉 敗有 ...</td>\n",
       "      <td>體育</td>\n",
       "      <td>財經</td>\n",
       "    </tr>\n",
       "    <tr>\n",
       "      <th>78</th>\n",
       "      <td>青春 風暴 加持 火箭 飛越 勇士 兩周前 擔心 勇士 西區 季後賽 附加賽 卡位 火箭 逼...</td>\n",
       "      <td>體育</td>\n",
       "      <td>財經</td>\n",
       "    </tr>\n",
       "    <tr>\n",
       "      <th>...</th>\n",
       "      <td>...</td>\n",
       "      <td>...</td>\n",
       "      <td>...</td>\n",
       "    </tr>\n",
       "    <tr>\n",
       "      <th>9244</th>\n",
       "      <td>電子 金融 期齊漲 台北 股市 今天 上漲 73.63 20200.12 電子 期收 106...</td>\n",
       "      <td>財經</td>\n",
       "      <td>體育</td>\n",
       "    </tr>\n",
       "    <tr>\n",
       "      <th>9253</th>\n",
       "      <td>期交所 縱橫 期海 大專院校 模擬 交易 競賽 日起 接受 報名 校園 年輕人 增進 期貨 ...</td>\n",
       "      <td>財經</td>\n",
       "      <td>政治</td>\n",
       "    </tr>\n",
       "    <tr>\n",
       "      <th>9254</th>\n",
       "      <td>期交所 2024 大專院校 模擬 交易 競賽 日起 接受 報名 臺灣 期貨 交易所 校園 年...</td>\n",
       "      <td>財經</td>\n",
       "      <td>政治</td>\n",
       "    </tr>\n",
       "    <tr>\n",
       "      <th>9264</th>\n",
       "      <td>月台 期指 78 台北 股市 今天 終場 147.9 20294.45 月台 指期 2028...</td>\n",
       "      <td>財經</td>\n",
       "      <td>體育</td>\n",
       "    </tr>\n",
       "    <tr>\n",
       "      <th>9265</th>\n",
       "      <td>電子 金融 期齊漲 台北 股市 今天 上漲 147.9 20294.45 電子 期收 106...</td>\n",
       "      <td>財經</td>\n",
       "      <td>體育</td>\n",
       "    </tr>\n",
       "  </tbody>\n",
       "</table>\n",
       "<p>3123 rows × 3 columns</p>\n",
       "</div>"
      ],
      "text/plain": [
       "                                                  words artCatagory pred\n",
       "68    LLB 謝國城 賽制 龜山 福林 少棒 強權 解析 遴選 LLB 少棒 威廉 波特 代表隊 ...          體育   財經\n",
       "71    二輪 選秀 咖變 一線 球星 大頭 布朗 成就 尼克 紐約 尼克 後衛 大頭 布朗 NBA ...          體育   財經\n",
       "72    愛德華 霸氣 比美 閃電俠 韋德 成狼王 瞄準 美國 王牌 灰狼 三月初 宣布 唐斯 Kar...          體育   財經\n",
       "73    中職 樂天 後院 失火 何不 考慮 關門 樂天 桃猿 官辦 熱身賽 頻遭 對手 逆轉 敗有 ...          體育   財經\n",
       "78    青春 風暴 加持 火箭 飛越 勇士 兩周前 擔心 勇士 西區 季後賽 附加賽 卡位 火箭 逼...          體育   財經\n",
       "...                                                 ...         ...  ...\n",
       "9244  電子 金融 期齊漲 台北 股市 今天 上漲 73.63 20200.12 電子 期收 106...          財經   體育\n",
       "9253  期交所 縱橫 期海 大專院校 模擬 交易 競賽 日起 接受 報名 校園 年輕人 增進 期貨 ...          財經   政治\n",
       "9254  期交所 2024 大專院校 模擬 交易 競賽 日起 接受 報名 臺灣 期貨 交易所 校園 年...          財經   政治\n",
       "9264  月台 期指 78 台北 股市 今天 終場 147.9 20294.45 月台 指期 2028...          財經   體育\n",
       "9265  電子 金融 期齊漲 台北 股市 今天 上漲 147.9 20294.45 電子 期收 106...          財經   體育\n",
       "\n",
       "[3123 rows x 3 columns]"
      ]
     },
     "execution_count": 366,
     "metadata": {},
     "output_type": "execute_result"
    }
   ],
   "source": [
    "false_pred = ct.query(\"artCatagory != pred\").loc[:,['words', 'artCatagory',\"pred\"]]\n",
    "false_pred"
   ]
  },
  {
   "cell_type": "markdown",
   "metadata": {},
   "source": [
    "- 過濾出被分類到和真實版別不同的文章有哪些。"
   ]
  },
  {
   "cell_type": "code",
   "execution_count": 367,
   "metadata": {},
   "outputs": [
    {
     "data": {
      "text/html": [
       "<div>\n",
       "<style scoped>\n",
       "    .dataframe tbody tr th:only-of-type {\n",
       "        vertical-align: middle;\n",
       "    }\n",
       "\n",
       "    .dataframe tbody tr th {\n",
       "        vertical-align: top;\n",
       "    }\n",
       "\n",
       "    .dataframe thead th {\n",
       "        text-align: right;\n",
       "    }\n",
       "</style>\n",
       "<table border=\"1\" class=\"dataframe\">\n",
       "  <thead>\n",
       "    <tr style=\"text-align: right;\">\n",
       "      <th></th>\n",
       "      <th>words</th>\n",
       "      <th>artCatagory</th>\n",
       "      <th>pred</th>\n",
       "    </tr>\n",
       "  </thead>\n",
       "  <tbody>\n",
       "    <tr>\n",
       "      <th>5328</th>\n",
       "      <td>人壽 退休 調查 女性 退休 規畫 準備 壓力 值比 男性 女性 扮演 角色 人生 階段 轉...</td>\n",
       "      <td>財經</td>\n",
       "      <td>政治</td>\n",
       "    </tr>\n",
       "    <tr>\n",
       "      <th>5354</th>\n",
       "      <td>晉升 主管 討厭 特殊 工具 贏得 支持 拓展 良好 關係 部門 主任 整個 企業 主管 家...</td>\n",
       "      <td>財經</td>\n",
       "      <td>政治</td>\n",
       "    </tr>\n",
       "    <tr>\n",
       "      <th>5356</th>\n",
       "      <td>電價 漲雙鐵 票價 著漲 尊重 台鐵 決定 電價 審議 委員會 將於 22 召開 電價 漲幅...</td>\n",
       "      <td>財經</td>\n",
       "      <td>政治</td>\n",
       "    </tr>\n",
       "    <tr>\n",
       "      <th>5357</th>\n",
       "      <td>電價 調升 柯文 光電 風電 綠電 吃飽 台電 虧損 電價 預期 平均 調幅 11% 對此 ...</td>\n",
       "      <td>財經</td>\n",
       "      <td>政治</td>\n",
       "    </tr>\n",
       "    <tr>\n",
       "      <th>5358</th>\n",
       "      <td>工商 民生 用電 漲價 柯文 哲批 台電 虧損 綠電 吃飽 經濟部 今天 召開 電價 費率 ...</td>\n",
       "      <td>財經</td>\n",
       "      <td>政治</td>\n",
       "    </tr>\n",
       "    <tr>\n",
       "      <th>5361</th>\n",
       "      <td>電價 漲帶 物價 趙少康 民眾 至少 三層 電價 全面 調漲 各界 帶動 物價上漲 對此 資...</td>\n",
       "      <td>財經</td>\n",
       "      <td>政治</td>\n",
       "    </tr>\n",
       "    <tr>\n",
       "      <th>5362</th>\n",
       "      <td>環團 聲明 支持 合理 調整 電價 籲推 對策 帶動 節電 電價 審議 委員會 今天 召開 ...</td>\n",
       "      <td>財經</td>\n",
       "      <td>政治</td>\n",
       "    </tr>\n",
       "    <tr>\n",
       "      <th>5363</th>\n",
       "      <td>電費 調漲 雙鐵 票價 萬安 北捷 凍漲 經濟部 電價 審議 委員會 電費 要漲 行業 恐將...</td>\n",
       "      <td>財經</td>\n",
       "      <td>政治</td>\n",
       "    </tr>\n",
       "    <tr>\n",
       "      <th>5364</th>\n",
       "      <td>電價 調漲 捷運 去年 用電 1.44 新北 捷運 爭取 凍漲 經濟部 今開 電價 費率 審...</td>\n",
       "      <td>財經</td>\n",
       "      <td>政治</td>\n",
       "    </tr>\n",
       "    <tr>\n",
       "      <th>5365</th>\n",
       "      <td>電費 喊漲 大學 國立 科大 協進會 補助 到位 教育部 表態 台電 電價 審議 今天下午 ...</td>\n",
       "      <td>財經</td>\n",
       "      <td>體育</td>\n",
       "    </tr>\n",
       "    <tr>\n",
       "      <th>5366</th>\n",
       "      <td>民生 330 以下 電費 16 未漲 環團 強化 配套 減少 衝擊 電價 審議 委員會 今日...</td>\n",
       "      <td>財經</td>\n",
       "      <td>政治</td>\n",
       "    </tr>\n",
       "    <tr>\n",
       "      <th>5367</th>\n",
       "      <td>電價 平均 調漲 11% 桃機 一年 6.6 億元 電費 再創新高 經濟部 今將 召開 電價...</td>\n",
       "      <td>財經</td>\n",
       "      <td>政治</td>\n",
       "    </tr>\n",
       "    <tr>\n",
       "      <th>5370</th>\n",
       "      <td>藍委 示警 電價 削弱 產業 競爭力 賴清德應 全面 檢討 電價 擬調 帶動 物價上漲 國民...</td>\n",
       "      <td>財經</td>\n",
       "      <td>政治</td>\n",
       "    </tr>\n",
       "    <tr>\n",
       "      <th>5373</th>\n",
       "      <td>電價 今年 發現 金券 徵稅 收要 補貼 台電 行政院長 陳建仁 今赴 立法院 備詢 國民黨...</td>\n",
       "      <td>財經</td>\n",
       "      <td>政治</td>\n",
       "    </tr>\n",
       "    <tr>\n",
       "      <th>5375</th>\n",
       "      <td>電價 調漲 商總 爭取 民生 用電 商家 漲幅 降為 3% 經濟部 22 下午 召開 電價 ...</td>\n",
       "      <td>財經</td>\n",
       "      <td>政治</td>\n",
       "    </tr>\n",
       "    <tr>\n",
       "      <th>5377</th>\n",
       "      <td>電價 大漲 業者 無奈 政府 選前 不漲 選後要 業者 背鍋 電價 一如 預期 大漲 民生 ...</td>\n",
       "      <td>財經</td>\n",
       "      <td>政治</td>\n",
       "    </tr>\n",
       "    <tr>\n",
       "      <th>5378</th>\n",
       "      <td>經濟部 宣布 電價 平均 調幅 11% 工商 民生 用電 漲價 經濟部 常務 次長 全能 下...</td>\n",
       "      <td>財經</td>\n",
       "      <td>政治</td>\n",
       "    </tr>\n",
       "    <tr>\n",
       "      <th>5379</th>\n",
       "      <td>電價 漲桃機 有感 積極 節電 打造 綠色 機場 桃園 國際機場 用電 大戶 電價 有感 去...</td>\n",
       "      <td>財經</td>\n",
       "      <td>政治</td>\n",
       "    </tr>\n",
       "    <tr>\n",
       "      <th>5380</th>\n",
       "      <td>北捷 電費 凍漲 陳建仁 規畫 票價 正當性 電費 台北 捷運 營運 成本 13% 台北 市...</td>\n",
       "      <td>財經</td>\n",
       "      <td>政治</td>\n",
       "    </tr>\n",
       "    <tr>\n",
       "      <th>5381</th>\n",
       "      <td>電價 虧損 工商 團體 能源 結構 不改 只會 一再 發生 經濟部 拍板 電價 調漲 11%...</td>\n",
       "      <td>財經</td>\n",
       "      <td>政治</td>\n",
       "    </tr>\n",
       "    <tr>\n",
       "      <th>5382</th>\n",
       "      <td>學校 電費 維持 凍漲 教育部 感謝 一口氣 經濟部 電價 費率 審議 決議 電價 平均 調...</td>\n",
       "      <td>財經</td>\n",
       "      <td>政治</td>\n",
       "    </tr>\n",
       "    <tr>\n",
       "      <th>5383</th>\n",
       "      <td>電價 費率 審議 拍板 商總許 舒博 成功 爭取 民生 商家 電價 漲幅 降為 3% 經濟部...</td>\n",
       "      <td>財經</td>\n",
       "      <td>政治</td>\n",
       "    </tr>\n",
       "    <tr>\n",
       "      <th>5384</th>\n",
       "      <td>電價 漲定 物價 騷動 楊瓊瓔 對民眾 影響 大成 諷刺 電價 審議 出爐 確定 調漲 國民...</td>\n",
       "      <td>財經</td>\n",
       "      <td>政治</td>\n",
       "    </tr>\n",
       "    <tr>\n",
       "      <th>5391</th>\n",
       "      <td>台灣 16 年來 首次 調漲 民生 用電 白委諷 政府 歷史紀錄 經濟部 今天 舉行 電價 ...</td>\n",
       "      <td>財經</td>\n",
       "      <td>政治</td>\n",
       "    </tr>\n",
       "    <tr>\n",
       "      <th>5393</th>\n",
       "      <td>台電 電價 收入 增加 628 年底 仍虧 百億 經濟部 電價 費率 審議 決議 電價 平均...</td>\n",
       "      <td>財經</td>\n",
       "      <td>政治</td>\n",
       "    </tr>\n",
       "    <tr>\n",
       "      <th>5397</th>\n",
       "      <td>電價 漲恐 物價 波動 桃園 市長 張善政 憂民 荷包 縮水 經濟部 22 召開 電價 費率...</td>\n",
       "      <td>財經</td>\n",
       "      <td>政治</td>\n",
       "    </tr>\n",
       "    <tr>\n",
       "      <th>5403</th>\n",
       "      <td>晶片 用電量 14% 產業 電力 景氣 燈號 綠燈 綜院 22 發布 月台 EPI 電力 景...</td>\n",
       "      <td>財經</td>\n",
       "      <td>政治</td>\n",
       "    </tr>\n",
       "    <tr>\n",
       "      <th>5405</th>\n",
       "      <td>金援 漲價 台電為 電價 已連 三年 調漲 理由 戰爭 導致 發電 燃料 成本 大增 電價 ...</td>\n",
       "      <td>財經</td>\n",
       "      <td>政治</td>\n",
       "    </tr>\n",
       "    <tr>\n",
       "      <th>5407</th>\n",
       "      <td>宿業 吃不消 房價 跑不掉 經濟部 拍板 四月 電價 漲幅 平均 調幅 百分之十一 住家 小...</td>\n",
       "      <td>財經</td>\n",
       "      <td>政治</td>\n",
       "    </tr>\n",
       "    <tr>\n",
       "      <th>5409</th>\n",
       "      <td>柯文 綠電 吃飽 台電 虧慘 全民 埋單 四月 工商 民生 用電 漲價 平均 漲幅 百分之十...</td>\n",
       "      <td>財經</td>\n",
       "      <td>政治</td>\n",
       "    </tr>\n",
       "    <tr>\n",
       "      <th>5412</th>\n",
       "      <td>電價 調漲 拍板 許宇 錯誤 能源 政策 不改 電價 繼續 昨日 電價 調漲 正式 拍板 電...</td>\n",
       "      <td>財經</td>\n",
       "      <td>政治</td>\n",
       "    </tr>\n",
       "    <tr>\n",
       "      <th>5416</th>\n",
       "      <td>電價 調漲 民怨 藍委羅廷 服務處 接電話 接到 手軟 昨日 電價 調漲 正式 拍板 電價 ...</td>\n",
       "      <td>財經</td>\n",
       "      <td>政治</td>\n",
       "    </tr>\n",
       "    <tr>\n",
       "      <th>5418</th>\n",
       "      <td>電價 調幅 11% 藍委轟 民進黨 台電 變綠 貧濟富 經濟部 拍板 電價 調漲 電價 調整...</td>\n",
       "      <td>財經</td>\n",
       "      <td>政治</td>\n",
       "    </tr>\n",
       "    <tr>\n",
       "      <th>5419</th>\n",
       "      <td>用電 700 以下 烘焙 每日 只增 天方夜譚 昨日 正式 拍板 電價 調漲 電價 平均 調...</td>\n",
       "      <td>財經</td>\n",
       "      <td>政治</td>\n",
       "    </tr>\n",
       "    <tr>\n",
       "      <th>5420</th>\n",
       "      <td>電價 大漲 蔡正元 核四賣 給台 積電 減輕 電價 上漲 壓力 電價 大漲 多年 未漲 民生...</td>\n",
       "      <td>財經</td>\n",
       "      <td>政治</td>\n",
       "    </tr>\n",
       "    <tr>\n",
       "      <th>5421</th>\n",
       "      <td>電價 醫療 院所 撐不住 必勝 明赴 行政院 醫界 發聲 經濟部 電價 費率 審議 拍板 平...</td>\n",
       "      <td>財經</td>\n",
       "      <td>政治</td>\n",
       "    </tr>\n",
       "    <tr>\n",
       "      <th>5422</th>\n",
       "      <td>電價 藍委批 經濟部 圖卡 粉飾太平 綠委 說明 政策 何錯之有 國民黨 立法院 黨團 總召...</td>\n",
       "      <td>財經</td>\n",
       "      <td>政治</td>\n",
       "    </tr>\n",
       "    <tr>\n",
       "      <th>5423</th>\n",
       "      <td>電價 烘焙 衝擊 楊瓊瓔 經濟部 40 店面 每月 電費 昨日 正式 拍板 電價 調漲 電價...</td>\n",
       "      <td>財經</td>\n",
       "      <td>政治</td>\n",
       "    </tr>\n",
       "    <tr>\n",
       "      <th>5424</th>\n",
       "      <td>哪家 包店 電費 天只 台電全 電價 日將 調漲 經濟部 舉例 北部 連鎖 烘焙 每月 用電...</td>\n",
       "      <td>財經</td>\n",
       "      <td>政治</td>\n",
       "    </tr>\n",
       "    <tr>\n",
       "      <th>5425</th>\n",
       "      <td>夏月 住宅 電價 最高 估破 電價 四月 一日 起調 民生 用電 各級 全面 調漲 調幅 最...</td>\n",
       "      <td>財經</td>\n",
       "      <td>政治</td>\n",
       "    </tr>\n",
       "    <tr>\n",
       "      <th>5426</th>\n",
       "      <td>醫界 盼凍漲 電價 必勝 反映 政院 經濟部 電價 費率 審議 拍板 國內 醫師 醫院 協會...</td>\n",
       "      <td>財經</td>\n",
       "      <td>政治</td>\n",
       "    </tr>\n",
       "    <tr>\n",
       "      <th>5427</th>\n",
       "      <td>經濟部 小店 夏天 電費 一次 冷氣 上門 經濟部 拍板 平均 電價 調漲 11% 立委 廷...</td>\n",
       "      <td>財經</td>\n",
       "      <td>政治</td>\n",
       "    </tr>\n",
       "    <tr>\n",
       "      <th>5428</th>\n",
       "      <td>台電漲 電費 李彥 秀酸 昔日 有用 發電 今有 美花 發電 台電 宣布 電價 調幅 平均 ...</td>\n",
       "      <td>財經</td>\n",
       "      <td>政治</td>\n",
       "    </tr>\n",
       "    <tr>\n",
       "      <th>5429</th>\n",
       "      <td>電價 醫療 院所 撐不下去 衛福部估 影響 醫界 落差 經濟部 上周 拍板 調漲 電價 國內...</td>\n",
       "      <td>財經</td>\n",
       "      <td>政治</td>\n",
       "    </tr>\n",
       "    <tr>\n",
       "      <th>5432</th>\n",
       "      <td>電價 效應 社宅 住戶 補貼 租屋 電費 北市 發局 通盤 討論 經濟部 確定 調漲 電價 ...</td>\n",
       "      <td>財經</td>\n",
       "      <td>政治</td>\n",
       "    </tr>\n",
       "    <tr>\n",
       "      <th>5435</th>\n",
       "      <td>回應 電價 波動 助長 台電 顛倒 因果 令人遺憾 經濟部 電價 審議 上周五 拍板 電價 ...</td>\n",
       "      <td>財經</td>\n",
       "      <td>政治</td>\n",
       "    </tr>\n",
       "    <tr>\n",
       "      <th>5436</th>\n",
       "      <td>電價 調漲 地區 醫院 撐不住 薛瑞元 國家 政策 整體性 考量 經濟部 22 召開 電價 ...</td>\n",
       "      <td>財經</td>\n",
       "      <td>政治</td>\n",
       "    </tr>\n",
       "    <tr>\n",
       "      <th>5437</th>\n",
       "      <td>電價 飛漲 弊案 不斷 能源 政策 調整 近期 電價 平均 調漲 11% 中央 強調 國際 ...</td>\n",
       "      <td>財經</td>\n",
       "      <td>政治</td>\n",
       "    </tr>\n",
       "    <tr>\n",
       "      <th>5441</th>\n",
       "      <td>電價 調漲 撐不住 衛福部擬 補助 中小型 醫院 醫界 反應 曝光 四月 一日 調漲 電價 ...</td>\n",
       "      <td>財經</td>\n",
       "      <td>政治</td>\n",
       "    </tr>\n",
       "    <tr>\n",
       "      <th>5444</th>\n",
       "      <td>撐不下去 醫療 院所 哀號 四月 一日 調漲 電價 多家 醫療 院所 高喊 撐不下去 政府 ...</td>\n",
       "      <td>財經</td>\n",
       "      <td>政治</td>\n",
       "    </tr>\n",
       "  </tbody>\n",
       "</table>\n",
       "</div>"
      ],
      "text/plain": [
       "                                                  words artCatagory pred\n",
       "5328  人壽 退休 調查 女性 退休 規畫 準備 壓力 值比 男性 女性 扮演 角色 人生 階段 轉...          財經   政治\n",
       "5354  晉升 主管 討厭 特殊 工具 贏得 支持 拓展 良好 關係 部門 主任 整個 企業 主管 家...          財經   政治\n",
       "5356  電價 漲雙鐵 票價 著漲 尊重 台鐵 決定 電價 審議 委員會 將於 22 召開 電價 漲幅...          財經   政治\n",
       "5357  電價 調升 柯文 光電 風電 綠電 吃飽 台電 虧損 電價 預期 平均 調幅 11% 對此 ...          財經   政治\n",
       "5358  工商 民生 用電 漲價 柯文 哲批 台電 虧損 綠電 吃飽 經濟部 今天 召開 電價 費率 ...          財經   政治\n",
       "5361  電價 漲帶 物價 趙少康 民眾 至少 三層 電價 全面 調漲 各界 帶動 物價上漲 對此 資...          財經   政治\n",
       "5362  環團 聲明 支持 合理 調整 電價 籲推 對策 帶動 節電 電價 審議 委員會 今天 召開 ...          財經   政治\n",
       "5363  電費 調漲 雙鐵 票價 萬安 北捷 凍漲 經濟部 電價 審議 委員會 電費 要漲 行業 恐將...          財經   政治\n",
       "5364  電價 調漲 捷運 去年 用電 1.44 新北 捷運 爭取 凍漲 經濟部 今開 電價 費率 審...          財經   政治\n",
       "5365  電費 喊漲 大學 國立 科大 協進會 補助 到位 教育部 表態 台電 電價 審議 今天下午 ...          財經   體育\n",
       "5366  民生 330 以下 電費 16 未漲 環團 強化 配套 減少 衝擊 電價 審議 委員會 今日...          財經   政治\n",
       "5367  電價 平均 調漲 11% 桃機 一年 6.6 億元 電費 再創新高 經濟部 今將 召開 電價...          財經   政治\n",
       "5370  藍委 示警 電價 削弱 產業 競爭力 賴清德應 全面 檢討 電價 擬調 帶動 物價上漲 國民...          財經   政治\n",
       "5373  電價 今年 發現 金券 徵稅 收要 補貼 台電 行政院長 陳建仁 今赴 立法院 備詢 國民黨...          財經   政治\n",
       "5375  電價 調漲 商總 爭取 民生 用電 商家 漲幅 降為 3% 經濟部 22 下午 召開 電價 ...          財經   政治\n",
       "5377  電價 大漲 業者 無奈 政府 選前 不漲 選後要 業者 背鍋 電價 一如 預期 大漲 民生 ...          財經   政治\n",
       "5378  經濟部 宣布 電價 平均 調幅 11% 工商 民生 用電 漲價 經濟部 常務 次長 全能 下...          財經   政治\n",
       "5379  電價 漲桃機 有感 積極 節電 打造 綠色 機場 桃園 國際機場 用電 大戶 電價 有感 去...          財經   政治\n",
       "5380  北捷 電費 凍漲 陳建仁 規畫 票價 正當性 電費 台北 捷運 營運 成本 13% 台北 市...          財經   政治\n",
       "5381  電價 虧損 工商 團體 能源 結構 不改 只會 一再 發生 經濟部 拍板 電價 調漲 11%...          財經   政治\n",
       "5382  學校 電費 維持 凍漲 教育部 感謝 一口氣 經濟部 電價 費率 審議 決議 電價 平均 調...          財經   政治\n",
       "5383  電價 費率 審議 拍板 商總許 舒博 成功 爭取 民生 商家 電價 漲幅 降為 3% 經濟部...          財經   政治\n",
       "5384  電價 漲定 物價 騷動 楊瓊瓔 對民眾 影響 大成 諷刺 電價 審議 出爐 確定 調漲 國民...          財經   政治\n",
       "5391  台灣 16 年來 首次 調漲 民生 用電 白委諷 政府 歷史紀錄 經濟部 今天 舉行 電價 ...          財經   政治\n",
       "5393  台電 電價 收入 增加 628 年底 仍虧 百億 經濟部 電價 費率 審議 決議 電價 平均...          財經   政治\n",
       "5397  電價 漲恐 物價 波動 桃園 市長 張善政 憂民 荷包 縮水 經濟部 22 召開 電價 費率...          財經   政治\n",
       "5403  晶片 用電量 14% 產業 電力 景氣 燈號 綠燈 綜院 22 發布 月台 EPI 電力 景...          財經   政治\n",
       "5405  金援 漲價 台電為 電價 已連 三年 調漲 理由 戰爭 導致 發電 燃料 成本 大增 電價 ...          財經   政治\n",
       "5407  宿業 吃不消 房價 跑不掉 經濟部 拍板 四月 電價 漲幅 平均 調幅 百分之十一 住家 小...          財經   政治\n",
       "5409  柯文 綠電 吃飽 台電 虧慘 全民 埋單 四月 工商 民生 用電 漲價 平均 漲幅 百分之十...          財經   政治\n",
       "5412  電價 調漲 拍板 許宇 錯誤 能源 政策 不改 電價 繼續 昨日 電價 調漲 正式 拍板 電...          財經   政治\n",
       "5416  電價 調漲 民怨 藍委羅廷 服務處 接電話 接到 手軟 昨日 電價 調漲 正式 拍板 電價 ...          財經   政治\n",
       "5418  電價 調幅 11% 藍委轟 民進黨 台電 變綠 貧濟富 經濟部 拍板 電價 調漲 電價 調整...          財經   政治\n",
       "5419  用電 700 以下 烘焙 每日 只增 天方夜譚 昨日 正式 拍板 電價 調漲 電價 平均 調...          財經   政治\n",
       "5420  電價 大漲 蔡正元 核四賣 給台 積電 減輕 電價 上漲 壓力 電價 大漲 多年 未漲 民生...          財經   政治\n",
       "5421  電價 醫療 院所 撐不住 必勝 明赴 行政院 醫界 發聲 經濟部 電價 費率 審議 拍板 平...          財經   政治\n",
       "5422  電價 藍委批 經濟部 圖卡 粉飾太平 綠委 說明 政策 何錯之有 國民黨 立法院 黨團 總召...          財經   政治\n",
       "5423  電價 烘焙 衝擊 楊瓊瓔 經濟部 40 店面 每月 電費 昨日 正式 拍板 電價 調漲 電價...          財經   政治\n",
       "5424  哪家 包店 電費 天只 台電全 電價 日將 調漲 經濟部 舉例 北部 連鎖 烘焙 每月 用電...          財經   政治\n",
       "5425  夏月 住宅 電價 最高 估破 電價 四月 一日 起調 民生 用電 各級 全面 調漲 調幅 最...          財經   政治\n",
       "5426  醫界 盼凍漲 電價 必勝 反映 政院 經濟部 電價 費率 審議 拍板 國內 醫師 醫院 協會...          財經   政治\n",
       "5427  經濟部 小店 夏天 電費 一次 冷氣 上門 經濟部 拍板 平均 電價 調漲 11% 立委 廷...          財經   政治\n",
       "5428  台電漲 電費 李彥 秀酸 昔日 有用 發電 今有 美花 發電 台電 宣布 電價 調幅 平均 ...          財經   政治\n",
       "5429  電價 醫療 院所 撐不下去 衛福部估 影響 醫界 落差 經濟部 上周 拍板 調漲 電價 國內...          財經   政治\n",
       "5432  電價 效應 社宅 住戶 補貼 租屋 電費 北市 發局 通盤 討論 經濟部 確定 調漲 電價 ...          財經   政治\n",
       "5435  回應 電價 波動 助長 台電 顛倒 因果 令人遺憾 經濟部 電價 審議 上周五 拍板 電價 ...          財經   政治\n",
       "5436  電價 調漲 地區 醫院 撐不住 薛瑞元 國家 政策 整體性 考量 經濟部 22 召開 電價 ...          財經   政治\n",
       "5437  電價 飛漲 弊案 不斷 能源 政策 調整 近期 電價 平均 調漲 11% 中央 強調 國際 ...          財經   政治\n",
       "5441  電價 調漲 撐不住 衛福部擬 補助 中小型 醫院 醫界 反應 曝光 四月 一日 調漲 電價 ...          財經   政治\n",
       "5444  撐不下去 醫療 院所 哀號 四月 一日 調漲 電價 多家 醫療 院所 高喊 撐不下去 政府 ...          財經   政治"
      ]
     },
     "execution_count": 367,
     "metadata": {},
     "output_type": "execute_result"
    }
   ],
   "source": [
    "false_pred.loc[false_pred['artCatagory']=='財經', :].head(50)"
   ]
  },
  {
   "cell_type": "markdown",
   "metadata": {},
   "source": [
    "- 可看出真實版別\"財經多被分類到\"政治\"。"
   ]
  },
  {
   "cell_type": "code",
   "execution_count": 368,
   "metadata": {},
   "outputs": [
    {
     "data": {
      "text/plain": [
       "words          經濟部 小店 夏天 電費 一次 冷氣 上門 經濟部 拍板 平均 電價 調漲 11% 立委 廷...\n",
       "artCatagory                                                   財經\n",
       "pred                                                          政治\n",
       "Name: 5427, dtype: object"
      ]
     },
     "execution_count": 368,
     "metadata": {},
     "output_type": "execute_result"
    }
   ],
   "source": [
    "false_pred.loc[5427, :]"
   ]
  },
  {
   "cell_type": "code",
   "execution_count": 369,
   "metadata": {},
   "outputs": [
    {
     "name": "stdout",
     "output_type": "stream",
     "text": [
      "('經濟部 小店 夏天 電費 一次 冷氣 上門 經濟部 拍板 平均 電價 調漲 11% 立委 廷瑋 經濟部 試圖 解釋 電價 小家庭 小店 漲幅 輕微 主要 '\n",
      " '大戶 調漲 指出 小店 夏天 冷氣 電費 一次 2.5 萬元 大熱天 如省 冷氣 上門 漲價 顧客 苦不堪言 廷瑋 經濟部 漲價 消息 一出 民眾 炸鍋 '\n",
      " '小羅 服務處 電話 接到 手軟 家人 牛肉 附近 小吃攤 業者 訴苦 廷瑋 拿出 小店 電費 冬天 電費 繳約 1.5 夏天 冷氣 2.5 萬元 擔心 '\n",
      " '這波 漲價 影響 夏季 用電 是非 夏季 用電 電費 利潤 貼補 開業 成本 再漲 關店 反映 餐飲 價格 業者 擔心 消費者 上門 指出 生產 用電 '\n",
      " '工廠 用電 轉動 機器 農產 用電 保持 冷藏 大戶 調漲 等於 生產 成本增加 最終 反應 產品價格 進一步 推升 物價 餐飲 小店 被迫 漲價 '\n",
      " '小市民 埋單 廷瑋 國際 燃料 價格 戰爭 中油 轉虧 為盈 在野 立法委員 要求 緩漲 電價 地方 政府 呼籲 緩漲 電價 吶喊 緩漲 電價 各界 '\n",
      " '呼籲 中央 緩漲 中央 一意孤行 違逆 民意 政府 終將 民意 反噬')\n"
     ]
    }
   ],
   "source": [
    "pprint(false_pred['words'][5427])"
   ]
  },
  {
   "cell_type": "markdown",
   "metadata": {},
   "source": [
    "- 可發現抽取此篇文章中，因為多出現\"經濟部\"、\"立委\"、\"中央\"、\"民意\"、\"政府\"等關鍵詞，使模型預測成「政治」。"
   ]
  }
 ],
 "metadata": {
  "kernelspec": {
   "display_name": "base",
   "language": "python",
   "name": "python3"
  },
  "language_info": {
   "codemirror_mode": {
    "name": "ipython",
    "version": 3
   },
   "file_extension": ".py",
   "mimetype": "text/x-python",
   "name": "python",
   "nbconvert_exporter": "python",
   "pygments_lexer": "ipython3",
   "version": "3.11.5"
  }
 },
 "nbformat": 4,
 "nbformat_minor": 2
}
